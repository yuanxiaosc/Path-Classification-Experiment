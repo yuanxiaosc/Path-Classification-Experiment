{
 "cells": [
  {
   "cell_type": "code",
   "execution_count": 1,
   "metadata": {},
   "outputs": [
    {
     "name": "stderr",
     "output_type": "stream",
     "text": [
      "D:\\Anaconda3\\envs\\machinelearn\\lib\\site-packages\\h5py\\__init__.py:36: FutureWarning: Conversion of the second argument of issubdtype from `float` to `np.floating` is deprecated. In future, it will be treated as `np.float64 == np.dtype(float).type`.\n",
      "  from ._conv import register_converters as _register_converters\n",
      "Using TensorFlow backend.\n"
     ]
    }
   ],
   "source": [
    "from sklearn.model_selection import train_test_split\n",
    "from keras.models import Sequential\n",
    "from keras.layers import Activation\n",
    "from keras.layers import Dense, Dropout\n",
    "from keras.layers.normalization import BatchNormalization\n",
    "from keras.utils import np_utils\n",
    "import pandas as pd\n",
    "import numpy as np"
   ]
  },
  {
   "cell_type": "code",
   "execution_count": 2,
   "metadata": {},
   "outputs": [
    {
     "data": {
      "text/html": [
       "<div>\n",
       "<style scoped>\n",
       "    .dataframe tbody tr th:only-of-type {\n",
       "        vertical-align: middle;\n",
       "    }\n",
       "\n",
       "    .dataframe tbody tr th {\n",
       "        vertical-align: top;\n",
       "    }\n",
       "\n",
       "    .dataframe thead th {\n",
       "        text-align: right;\n",
       "    }\n",
       "</style>\n",
       "<table border=\"1\" class=\"dataframe\">\n",
       "  <thead>\n",
       "    <tr style=\"text-align: right;\">\n",
       "      <th></th>\n",
       "      <th>dates</th>\n",
       "      <th>OBJs</th>\n",
       "      <th>ODs_1</th>\n",
       "      <th>ODs_2</th>\n",
       "      <th>depTimes</th>\n",
       "      <th>expPerf</th>\n",
       "      <th>staticPerf</th>\n",
       "      <th>grdyPerf</th>\n",
       "      <th>godPerf</th>\n",
       "      <th>distances</th>\n",
       "      <th>...</th>\n",
       "      <th>stmutC_grdyPath_3</th>\n",
       "      <th>YesterdayGrdyPerf</th>\n",
       "      <th>YesterdayGodPerf</th>\n",
       "      <th>YesterdayStaPerf</th>\n",
       "      <th>YesterdayExpPerf</th>\n",
       "      <th>Outputs14</th>\n",
       "      <th>Outputs7</th>\n",
       "      <th>Outputs3_1</th>\n",
       "      <th>Outputs3_2</th>\n",
       "      <th>Outputs3_3</th>\n",
       "    </tr>\n",
       "  </thead>\n",
       "  <tbody>\n",
       "    <tr>\n",
       "      <th>0</th>\n",
       "      <td>4.19</td>\n",
       "      <td>1</td>\n",
       "      <td>1386</td>\n",
       "      <td>1821</td>\n",
       "      <td>16454</td>\n",
       "      <td>901.873155</td>\n",
       "      <td>943.341039</td>\n",
       "      <td>879.878944</td>\n",
       "      <td>802.674362</td>\n",
       "      <td>0.089257</td>\n",
       "      <td>...</td>\n",
       "      <td>0.475829</td>\n",
       "      <td>999.074209</td>\n",
       "      <td>955.166635</td>\n",
       "      <td>997.787702</td>\n",
       "      <td>986.738929</td>\n",
       "      <td>13</td>\n",
       "      <td>6</td>\n",
       "      <td>-1</td>\n",
       "      <td>0</td>\n",
       "      <td>-1</td>\n",
       "    </tr>\n",
       "    <tr>\n",
       "      <th>1</th>\n",
       "      <td>4.19</td>\n",
       "      <td>1</td>\n",
       "      <td>529</td>\n",
       "      <td>1199</td>\n",
       "      <td>14062</td>\n",
       "      <td>905.320230</td>\n",
       "      <td>650.077643</td>\n",
       "      <td>650.077643</td>\n",
       "      <td>650.077643</td>\n",
       "      <td>0.053294</td>\n",
       "      <td>...</td>\n",
       "      <td>0.550532</td>\n",
       "      <td>667.675168</td>\n",
       "      <td>585.119637</td>\n",
       "      <td>655.264699</td>\n",
       "      <td>585.119637</td>\n",
       "      <td>2</td>\n",
       "      <td>2</td>\n",
       "      <td>1</td>\n",
       "      <td>1</td>\n",
       "      <td>-1</td>\n",
       "    </tr>\n",
       "    <tr>\n",
       "      <th>2</th>\n",
       "      <td>4.19</td>\n",
       "      <td>1</td>\n",
       "      <td>716</td>\n",
       "      <td>990</td>\n",
       "      <td>13779</td>\n",
       "      <td>787.775655</td>\n",
       "      <td>864.166706</td>\n",
       "      <td>925.812156</td>\n",
       "      <td>767.183548</td>\n",
       "      <td>0.080272</td>\n",
       "      <td>...</td>\n",
       "      <td>0.756983</td>\n",
       "      <td>612.851744</td>\n",
       "      <td>601.668111</td>\n",
       "      <td>975.484821</td>\n",
       "      <td>700.256755</td>\n",
       "      <td>14</td>\n",
       "      <td>7</td>\n",
       "      <td>-1</td>\n",
       "      <td>-1</td>\n",
       "      <td>0</td>\n",
       "    </tr>\n",
       "    <tr>\n",
       "      <th>3</th>\n",
       "      <td>4.19</td>\n",
       "      <td>1</td>\n",
       "      <td>547</td>\n",
       "      <td>1456</td>\n",
       "      <td>14027</td>\n",
       "      <td>625.313098</td>\n",
       "      <td>683.213117</td>\n",
       "      <td>670.375942</td>\n",
       "      <td>623.874198</td>\n",
       "      <td>0.063568</td>\n",
       "      <td>...</td>\n",
       "      <td>0.512717</td>\n",
       "      <td>670.883400</td>\n",
       "      <td>641.749020</td>\n",
       "      <td>670.883400</td>\n",
       "      <td>641.749020</td>\n",
       "      <td>14</td>\n",
       "      <td>7</td>\n",
       "      <td>-1</td>\n",
       "      <td>-1</td>\n",
       "      <td>0</td>\n",
       "    </tr>\n",
       "    <tr>\n",
       "      <th>4</th>\n",
       "      <td>4.19</td>\n",
       "      <td>1</td>\n",
       "      <td>914</td>\n",
       "      <td>1073</td>\n",
       "      <td>14355</td>\n",
       "      <td>604.748398</td>\n",
       "      <td>618.476141</td>\n",
       "      <td>620.277530</td>\n",
       "      <td>595.945774</td>\n",
       "      <td>0.047176</td>\n",
       "      <td>...</td>\n",
       "      <td>0.289439</td>\n",
       "      <td>590.331899</td>\n",
       "      <td>590.331899</td>\n",
       "      <td>657.448103</td>\n",
       "      <td>611.118098</td>\n",
       "      <td>14</td>\n",
       "      <td>7</td>\n",
       "      <td>-1</td>\n",
       "      <td>-1</td>\n",
       "      <td>0</td>\n",
       "    </tr>\n",
       "  </tbody>\n",
       "</table>\n",
       "<p>5 rows × 135 columns</p>\n",
       "</div>"
      ],
      "text/plain": [
       "   dates  OBJs  ODs_1  ODs_2  depTimes    expPerf   staticPerf    grdyPerf   \\\n",
       "0   4.19     1   1386   1821     16454  901.873155   943.341039  879.878944   \n",
       "1   4.19     1    529   1199     14062  905.320230   650.077643  650.077643   \n",
       "2   4.19     1    716    990     13779  787.775655   864.166706  925.812156   \n",
       "3   4.19     1    547   1456     14027  625.313098   683.213117  670.375942   \n",
       "4   4.19     1    914   1073     14355  604.748398   618.476141  620.277530   \n",
       "\n",
       "      godPerf  distances     ...      stmutC_grdyPath_3  YesterdayGrdyPerf  \\\n",
       "0  802.674362   0.089257     ...               0.475829         999.074209   \n",
       "1  650.077643   0.053294     ...               0.550532         667.675168   \n",
       "2  767.183548   0.080272     ...               0.756983         612.851744   \n",
       "3  623.874198   0.063568     ...               0.512717         670.883400   \n",
       "4  595.945774   0.047176     ...               0.289439         590.331899   \n",
       "\n",
       "   YesterdayGodPerf  YesterdayStaPerf  YesterdayExpPerf  Outputs14  Outputs7  \\\n",
       "0        955.166635        997.787702        986.738929         13         6   \n",
       "1        585.119637        655.264699        585.119637          2         2   \n",
       "2        601.668111        975.484821        700.256755         14         7   \n",
       "3        641.749020        670.883400        641.749020         14         7   \n",
       "4        590.331899        657.448103        611.118098         14         7   \n",
       "\n",
       "   Outputs3_1  Outputs3_2  Outputs3_3  \n",
       "0          -1           0          -1  \n",
       "1           1           1          -1  \n",
       "2          -1          -1           0  \n",
       "3          -1          -1           0  \n",
       "4          -1          -1           0  \n",
       "\n",
       "[5 rows x 135 columns]"
      ]
     },
     "execution_count": 2,
     "metadata": {},
     "output_type": "execute_result"
    }
   ],
   "source": [
    "data_fram = pd.read_csv('./data/Features.csv')\n",
    "data_fram.head()"
   ]
  },
  {
   "cell_type": "code",
   "execution_count": 3,
   "metadata": {
    "collapsed": true
   },
   "outputs": [],
   "source": [
    "Date = data_fram['dates']\n",
    "Date = pd.get_dummies(Date)"
   ]
  },
  {
   "cell_type": "code",
   "execution_count": 4,
   "metadata": {},
   "outputs": [
    {
     "name": "stderr",
     "output_type": "stream",
     "text": [
      "D:\\Anaconda3\\envs\\machinelearn\\lib\\site-packages\\ipykernel_launcher.py:8: FutureWarning: Method .as_matrix will be removed in a future version. Use .values instead.\n",
      "  \n"
     ]
    }
   ],
   "source": [
    "Data = data_fram[['expPerf ', 'OBJs', 'ODs_1', 'ODs_2', 'depTimes', 'distances', 'CR_expPath', 'averObjValue_expPath', 'VAR_expPath', \n",
    "                  'staVAR_expPath', 'mutC_expPath', 'averTT_expPath_1', 'averTT_expPath_2', 'averTT_expPath_3', 'strTT_expPath_1', \n",
    "                  'strTT_expPath_2', 'strTT_expPath_3', 'VAR_expPath_1', 'VAR_expPath_2', 'VAR_expPath_3', 'staVAR_expPath_1', \n",
    "                  'staVAR_expPath_2', 'staVAR_expPath_3', 'mutC_expPath_1', 'mutC_expPath_2', 'mutC_expPath_3', 'stVAR_expPath_1', \n",
    "                  'stVAR_expPath_2', 'stVAR_expPath_3','ststaVAR_expPath_1', 'ststaVAR_expPath_2', 'ststaVAR_expPath_3', \n",
    "                  'stmutC_expPath_1', 'stmutC_expPath_2', 'stmutC_expPath_3', 'YesterdayExpPerf']]\n",
    "Data1 = Data.join(Date)\n",
    "Data1 = Data.as_matrix()\n",
    "X = Data1[:, 1:].astype(float)\n",
    "Y = Data1[:, 0]"
   ]
  },
  {
   "cell_type": "code",
   "execution_count": 5,
   "metadata": {
    "collapsed": true
   },
   "outputs": [],
   "source": [
    "x_train, x_test, y_train, y_test = train_test_split(X, Y, random_state=32, test_size=0.2)"
   ]
  },
  {
   "cell_type": "code",
   "execution_count": 6,
   "metadata": {
    "collapsed": true
   },
   "outputs": [],
   "source": [
    "from sklearn.preprocessing import minmax_scale\n",
    "X_train_std = minmax_scale(x_train)\n",
    "X_test_std = minmax_scale(x_test)\n",
    "#X_train_std = standar_s.fit_transform(x_train)\n",
    "#X_test_std = standar_s.fit_transform(x_test)"
   ]
  },
  {
   "cell_type": "code",
   "execution_count": 7,
   "metadata": {
    "collapsed": true
   },
   "outputs": [],
   "source": [
    "def create_model_1():\n",
    "    model = Sequential()\n",
    "    model.add(Dense(units=512, kernel_initializer='random_normal',input_dim=X_train_std.shape[1]))\n",
    "    #model.add(BatchNormalization())\n",
    "    model.add(Activation('relu'))\n",
    "    model.add(Dropout(0.5))\n",
    "    model.add(Dense(units=256, kernel_initializer='random_normal'))\n",
    "    #model.add(BatchNormalization())\n",
    "    model.add(Activation('relu'))\n",
    "    model.add(Dropout(0.5))\n",
    "    model.add(Dense(units=128, kernel_initializer='random_normal'))\n",
    "    #model.add(BatchNormalization())\n",
    "    model.add(Activation('relu'))\n",
    "    model.add(Dense(units=64, kernel_initializer='random_normal'))\n",
    "    #model.add(BatchNormalization())\n",
    "    model.add(Activation('relu'))\n",
    "    model.add(Dense(units=32, kernel_initializer='random_normal'))\n",
    "    #model.add(BatchNormalization())\n",
    "    model.add(Activation('relu'))\n",
    "    model.add(Dense(units=1))\n",
    "    model.compile(loss='mean_squared_error',\n",
    "                  optimizer='adam',\n",
    "                  metrics=['mae'])\n",
    "    return model"
   ]
  },
  {
   "cell_type": "code",
   "execution_count": 8,
   "metadata": {},
   "outputs": [],
   "source": [
    "a_model_1 = create_model_1()\n",
    "#a_model_1.fit(X_train_std, y_train, epochs=20, batch_size=256,verbose=1,validation_split=0.2,shuffle=True)"
   ]
  },
  {
   "cell_type": "code",
   "execution_count": 9,
   "metadata": {},
   "outputs": [
    {
     "data": {
      "text/plain": [
       "<keras.callbacks.History at 0x24b09860>"
      ]
     },
     "execution_count": 9,
     "metadata": {},
     "output_type": "execute_result"
    }
   ],
   "source": [
    "from keras.callbacks import TensorBoard\n",
    "a_model_1.fit(X_train_std, y_train, epochs=25, batch_size=64,verbose=0,\n",
    "              validation_split=0.2,shuffle=True,callbacks=[TensorBoard(log_dir='./logs/{}'.format(\"EDA4_20180902_4\"))])"
   ]
  },
  {
   "cell_type": "code",
   "execution_count": 10,
   "metadata": {
    "collapsed": true
   },
   "outputs": [],
   "source": [
    "Predict = a_model_1.predict(X_test_std)"
   ]
  },
  {
   "cell_type": "code",
   "execution_count": 11,
   "metadata": {},
   "outputs": [
    {
     "data": {
      "text/plain": [
       "(20384, 1)"
      ]
     },
     "execution_count": 11,
     "metadata": {},
     "output_type": "execute_result"
    }
   ],
   "source": [
    "Predict.shape"
   ]
  },
  {
   "cell_type": "code",
   "execution_count": 12,
   "metadata": {},
   "outputs": [
    {
     "data": {
      "text/plain": [
       "(20384,)"
      ]
     },
     "execution_count": 12,
     "metadata": {},
     "output_type": "execute_result"
    }
   ],
   "source": [
    "y_test.shape"
   ]
  },
  {
   "cell_type": "code",
   "execution_count": 13,
   "metadata": {
    "collapsed": true
   },
   "outputs": [],
   "source": [
    "Predict_y_test_abs_error =  abs(Predict - y_test.reshape(-1, 1))"
   ]
  },
  {
   "cell_type": "code",
   "execution_count": 15,
   "metadata": {},
   "outputs": [
    {
     "data": {
      "text/plain": [
       "118.57441385169518"
      ]
     },
     "execution_count": 15,
     "metadata": {},
     "output_type": "execute_result"
    }
   ],
   "source": [
    "np.mean(Predict_y_test_abs_error)"
   ]
  },
  {
   "cell_type": "code",
   "execution_count": 17,
   "metadata": {},
   "outputs": [
    {
     "data": {
      "text/plain": [
       "1171.0242"
      ]
     },
     "execution_count": 17,
     "metadata": {},
     "output_type": "execute_result"
    }
   ],
   "source": [
    "np.mean(Predict)"
   ]
  },
  {
   "cell_type": "code",
   "execution_count": 18,
   "metadata": {},
   "outputs": [
    {
     "data": {
      "text/plain": [
       "1091.2422853404832"
      ]
     },
     "execution_count": 18,
     "metadata": {},
     "output_type": "execute_result"
    }
   ],
   "source": [
    "np.mean(y_test)"
   ]
  },
  {
   "cell_type": "markdown",
   "metadata": {},
   "source": [
    "# 画图分析"
   ]
  },
  {
   "cell_type": "code",
   "execution_count": 20,
   "metadata": {},
   "outputs": [],
   "source": [
    "import matplotlib.pyplot as plt\n",
    "%matplotlib inline"
   ]
  },
  {
   "cell_type": "code",
   "execution_count": 27,
   "metadata": {},
   "outputs": [
    {
     "data": {
      "text/plain": [
       "[<matplotlib.lines.Line2D at 0x298eada0>,\n",
       " <matplotlib.lines.Line2D at 0x298eaef0>]"
      ]
     },
     "execution_count": 27,
     "metadata": {},
     "output_type": "execute_result"
    },
    {
     "data": {
      "image/png": "[encoded data removed]",
      "text/plain": [
       "<Figure size 432x288 with 1 Axes>"
      ]
     },
     "metadata": {},
     "output_type": "display_data"
    }
   ],
   "source": [
    "plt.plot(range(Predict.shape[0])[:100],Predict[:100],y_test[:100])"
   ]
  },
  {
   "cell_type": "markdown",
   "metadata": {},
   "source": [
    "# 设定阈值分析"
   ]
  },
  {
   "cell_type": "code",
   "execution_count": 28,
   "metadata": {},
   "outputs": [],
   "source": [
    "threshold = 5"
   ]
  },
  {
   "cell_type": "code",
   "execution_count": 31,
   "metadata": {},
   "outputs": [
    {
     "data": {
      "text/plain": [
       "0.02315541601255887"
      ]
     },
     "execution_count": 31,
     "metadata": {},
     "output_type": "execute_result"
    }
   ],
   "source": [
    "np.mean(Predict_y_test_abs_error<threshold)"
   ]
  },
  {
   "cell_type": "code",
   "execution_count": 38,
   "metadata": {},
   "outputs": [],
   "source": [
    "out_list = []\n",
    "for t in range(0, 250, 5):\n",
    "    out_list.append(np.mean(Predict_y_test_abs_error<t))"
   ]
  },
  {
   "cell_type": "code",
   "execution_count": 39,
   "metadata": {},
   "outputs": [
    {
     "data": {
      "text/plain": [
       "[0.0,\n",
       " 0.02315541601255887,\n",
       " 0.04439756671899529,\n",
       " 0.06799450549450549,\n",
       " 0.08904042386185243,\n",
       " 0.11150902668759811,\n",
       " 0.13505690737833595,\n",
       " 0.1600765306122449,\n",
       " 0.18656789638932497,\n",
       " 0.21212715855572997,\n",
       " 0.23729395604395603,\n",
       " 0.2620192307692308,\n",
       " 0.2867445054945055,\n",
       " 0.3133339874411303,\n",
       " 0.33918759811616955,\n",
       " 0.3656789638932496,\n",
       " 0.39104199372056514,\n",
       " 0.41925039246467816,\n",
       " 0.4474097331240188,\n",
       " 0.47547095761381475,\n",
       " 0.502109497645212,\n",
       " 0.5294839089481946,\n",
       " 0.5559752747252747,\n",
       " 0.5808477237048666,\n",
       " 0.6060145211930926,\n",
       " 0.6289246467817896,\n",
       " 0.6519328885400314,\n",
       " 0.6753826530612245,\n",
       " 0.695054945054945,\n",
       " 0.7146291208791209,\n",
       " 0.7321428571428571,\n",
       " 0.7483320251177394,\n",
       " 0.7641287284144427,\n",
       " 0.7792876766091051,\n",
       " 0.7936616954474097,\n",
       " 0.8072507849293563,\n",
       " 0.8194171899529042,\n",
       " 0.8303571428571429,\n",
       " 0.8406593406593407,\n",
       " 0.8492935635792779,\n",
       " 0.8588108320251178,\n",
       " 0.8671507064364207,\n",
       " 0.8750981161695447,\n",
       " 0.8816718995290423,\n",
       " 0.8884909733124019,\n",
       " 0.8949666405023547,\n",
       " 0.8994799843014128,\n",
       " 0.9052197802197802,\n",
       " 0.9096350078492935,\n",
       " 0.9140992935635793]"
      ]
     },
     "execution_count": 39,
     "metadata": {},
     "output_type": "execute_result"
    }
   ],
   "source": [
    "out_list"
   ]
  },
  {
   "cell_type": "code",
   "execution_count": 42,
   "metadata": {},
   "outputs": [
    {
     "data": {
      "text/plain": [
       "[<matplotlib.lines.Line2D at 0x297e4cc0>]"
      ]
     },
     "execution_count": 42,
     "metadata": {},
     "output_type": "execute_result"
    },
    {
     "data": {
      "image/png": "[encoded data removed]",
      "text/plain": [
       "<Figure size 432x288 with 1 Axes>"
      ]
     },
     "metadata": {},
     "output_type": "display_data"
    }
   ],
   "source": [
    "plt.plot(range(len(out_list)),out_list)"
   ]
  },
  {
   "cell_type": "code",
   "execution_count": null,
   "metadata": {},
   "outputs": [],
   "source": []
  }
 ],
 "metadata": {
  "kernelspec": {
   "display_name": "Python 3",
   "language": "python",
   "name": "python3"
  },
  "language_info": {
   "codemirror_mode": {
    "name": "ipython",
    "version": 3
   },
   "file_extension": ".py",
   "mimetype": "text/x-python",
   "name": "python",
   "nbconvert_exporter": "python",
   "pygments_lexer": "ipython3",
   "version": "3.6.6"
  }
 },
 "nbformat": 4,
 "nbformat_minor": 2
}
