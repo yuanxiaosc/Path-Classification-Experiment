{
 "cells": [
  {
   "cell_type": "markdown",
   "metadata": {},
   "source": [
    "# 探索性数据分析(EDA)"
   ]
  },
  {
   "cell_type": "markdown",
   "metadata": {},
   "source": [
    "## 查看数据基本信息"
   ]
  },
  {
   "cell_type": "code",
   "execution_count": 14,
   "metadata": {},
   "outputs": [],
   "source": [
    "import pandas as pd\n",
    "import numpy as np\n",
    "from xgboost import XGBClassifier\n",
    "from sklearn.metrics import accuracy_score"
   ]
  },
  {
   "cell_type": "code",
   "execution_count": 15,
   "metadata": {},
   "outputs": [],
   "source": [
    "import xgboost as xgb"
   ]
  },
  {
   "cell_type": "code",
   "execution_count": 16,
   "metadata": {},
   "outputs": [
    {
     "data": {
      "text/html": [
       "<div>\n",
       "<style scoped>\n",
       "    .dataframe tbody tr th:only-of-type {\n",
       "        vertical-align: middle;\n",
       "    }\n",
       "\n",
       "    .dataframe tbody tr th {\n",
       "        vertical-align: top;\n",
       "    }\n",
       "\n",
       "    .dataframe thead th {\n",
       "        text-align: right;\n",
       "    }\n",
       "</style>\n",
       "<table border=\"1\" class=\"dataframe\">\n",
       "  <thead>\n",
       "    <tr style=\"text-align: right;\">\n",
       "      <th></th>\n",
       "      <th>distances</th>\n",
       "      <th>CR_staPath</th>\n",
       "      <th>CR_expPath</th>\n",
       "      <th>CR_godPath</th>\n",
       "      <th>CR_grdyPath</th>\n",
       "      <th>averObjValue_staPath</th>\n",
       "      <th>averObjValue_expPath</th>\n",
       "      <th>averObjValue_godPath</th>\n",
       "      <th>averObjValue_grdyPath</th>\n",
       "      <th>VAR_staPath</th>\n",
       "      <th>...</th>\n",
       "      <th>noweight_avg_degree</th>\n",
       "      <th>strSpd_edges_avg_BC</th>\n",
       "      <th>strSpd_edges_std_BC</th>\n",
       "      <th>strSpd_avg_CC</th>\n",
       "      <th>strSpd_std_CC</th>\n",
       "      <th>Outputs14</th>\n",
       "      <th>Outputs7</th>\n",
       "      <th>Outputs3_1</th>\n",
       "      <th>Outputs3_2</th>\n",
       "      <th>Outputs3_3</th>\n",
       "    </tr>\n",
       "  </thead>\n",
       "  <tbody>\n",
       "    <tr>\n",
       "      <th>0</th>\n",
       "      <td>0.089257</td>\n",
       "      <td>38</td>\n",
       "      <td>36</td>\n",
       "      <td>33</td>\n",
       "      <td>34</td>\n",
       "      <td>1002.583614</td>\n",
       "      <td>950.442450</td>\n",
       "      <td>1003.926941</td>\n",
       "      <td>1014.325558</td>\n",
       "      <td>5587.262540</td>\n",
       "      <td>...</td>\n",
       "      <td>2.156250</td>\n",
       "      <td>0.085249</td>\n",
       "      <td>0.058916</td>\n",
       "      <td>0.093363</td>\n",
       "      <td>0.030391</td>\n",
       "      <td>13</td>\n",
       "      <td>6</td>\n",
       "      <td>-1</td>\n",
       "      <td>0</td>\n",
       "      <td>-1</td>\n",
       "    </tr>\n",
       "    <tr>\n",
       "      <th>1</th>\n",
       "      <td>0.053294</td>\n",
       "      <td>14</td>\n",
       "      <td>11</td>\n",
       "      <td>11</td>\n",
       "      <td>10</td>\n",
       "      <td>691.118469</td>\n",
       "      <td>588.300449</td>\n",
       "      <td>746.190531</td>\n",
       "      <td>742.329823</td>\n",
       "      <td>5121.227202</td>\n",
       "      <td>...</td>\n",
       "      <td>2.142857</td>\n",
       "      <td>0.065123</td>\n",
       "      <td>0.033024</td>\n",
       "      <td>0.134397</td>\n",
       "      <td>0.048843</td>\n",
       "      <td>2</td>\n",
       "      <td>2</td>\n",
       "      <td>1</td>\n",
       "      <td>1</td>\n",
       "      <td>-1</td>\n",
       "    </tr>\n",
       "    <tr>\n",
       "      <th>2</th>\n",
       "      <td>0.080272</td>\n",
       "      <td>22</td>\n",
       "      <td>18</td>\n",
       "      <td>18</td>\n",
       "      <td>17</td>\n",
       "      <td>981.840365</td>\n",
       "      <td>775.495436</td>\n",
       "      <td>780.134362</td>\n",
       "      <td>844.508519</td>\n",
       "      <td>3770.183203</td>\n",
       "      <td>...</td>\n",
       "      <td>2.107143</td>\n",
       "      <td>0.030206</td>\n",
       "      <td>0.014002</td>\n",
       "      <td>0.053449</td>\n",
       "      <td>0.019681</td>\n",
       "      <td>14</td>\n",
       "      <td>7</td>\n",
       "      <td>-1</td>\n",
       "      <td>-1</td>\n",
       "      <td>0</td>\n",
       "    </tr>\n",
       "    <tr>\n",
       "      <th>3</th>\n",
       "      <td>0.063568</td>\n",
       "      <td>11</td>\n",
       "      <td>11</td>\n",
       "      <td>11</td>\n",
       "      <td>11</td>\n",
       "      <td>704.890220</td>\n",
       "      <td>706.739953</td>\n",
       "      <td>732.371605</td>\n",
       "      <td>699.944470</td>\n",
       "      <td>4303.335085</td>\n",
       "      <td>...</td>\n",
       "      <td>2.000000</td>\n",
       "      <td>0.098954</td>\n",
       "      <td>0.044872</td>\n",
       "      <td>0.128724</td>\n",
       "      <td>0.052665</td>\n",
       "      <td>14</td>\n",
       "      <td>7</td>\n",
       "      <td>-1</td>\n",
       "      <td>-1</td>\n",
       "      <td>0</td>\n",
       "    </tr>\n",
       "    <tr>\n",
       "      <th>4</th>\n",
       "      <td>0.047176</td>\n",
       "      <td>18</td>\n",
       "      <td>18</td>\n",
       "      <td>17</td>\n",
       "      <td>17</td>\n",
       "      <td>644.648402</td>\n",
       "      <td>630.084259</td>\n",
       "      <td>637.053175</td>\n",
       "      <td>641.776450</td>\n",
       "      <td>3198.230906</td>\n",
       "      <td>...</td>\n",
       "      <td>2.064516</td>\n",
       "      <td>0.095766</td>\n",
       "      <td>0.056636</td>\n",
       "      <td>0.131816</td>\n",
       "      <td>0.064134</td>\n",
       "      <td>14</td>\n",
       "      <td>7</td>\n",
       "      <td>-1</td>\n",
       "      <td>-1</td>\n",
       "      <td>0</td>\n",
       "    </tr>\n",
       "  </tbody>\n",
       "</table>\n",
       "<p>5 rows × 131 columns</p>\n",
       "</div>"
      ],
      "text/plain": [
       "   distances  CR_staPath  CR_expPath  CR_godPath  CR_grdyPath  \\\n",
       "0   0.089257          38          36          33           34   \n",
       "1   0.053294          14          11          11           10   \n",
       "2   0.080272          22          18          18           17   \n",
       "3   0.063568          11          11          11           11   \n",
       "4   0.047176          18          18          17           17   \n",
       "\n",
       "   averObjValue_staPath  averObjValue_expPath  averObjValue_godPath  \\\n",
       "0           1002.583614            950.442450           1003.926941   \n",
       "1            691.118469            588.300449            746.190531   \n",
       "2            981.840365            775.495436            780.134362   \n",
       "3            704.890220            706.739953            732.371605   \n",
       "4            644.648402            630.084259            637.053175   \n",
       "\n",
       "   averObjValue_grdyPath  VAR_staPath     ...      noweight_avg_degree  \\\n",
       "0            1014.325558  5587.262540     ...                 2.156250   \n",
       "1             742.329823  5121.227202     ...                 2.142857   \n",
       "2             844.508519  3770.183203     ...                 2.107143   \n",
       "3             699.944470  4303.335085     ...                 2.000000   \n",
       "4             641.776450  3198.230906     ...                 2.064516   \n",
       "\n",
       "   strSpd_edges_avg_BC  strSpd_edges_std_BC  strSpd_avg_CC  strSpd_std_CC  \\\n",
       "0             0.085249             0.058916       0.093363       0.030391   \n",
       "1             0.065123             0.033024       0.134397       0.048843   \n",
       "2             0.030206             0.014002       0.053449       0.019681   \n",
       "3             0.098954             0.044872       0.128724       0.052665   \n",
       "4             0.095766             0.056636       0.131816       0.064134   \n",
       "\n",
       "   Outputs14  Outputs7  Outputs3_1  Outputs3_2  Outputs3_3  \n",
       "0         13         6          -1           0          -1  \n",
       "1          2         2           1           1          -1  \n",
       "2         14         7          -1          -1           0  \n",
       "3         14         7          -1          -1           0  \n",
       "4         14         7          -1          -1           0  \n",
       "\n",
       "[5 rows x 131 columns]"
      ]
     },
     "execution_count": 16,
     "metadata": {},
     "output_type": "execute_result"
    }
   ],
   "source": [
    "data_fram = pd.read_csv('NetworksOD_180805.csv')\n",
    "# 查看数据前 5 行\n",
    "data_fram.head()"
   ]
  },
  {
   "cell_type": "code",
   "execution_count": 17,
   "metadata": {},
   "outputs": [
    {
     "data": {
      "text/plain": [
       "14    25834\n",
       "13    20955\n",
       "12    10074\n",
       "7      8749\n",
       "6      8065\n",
       "1      8028\n",
       "4      3619\n",
       "10     3278\n",
       "2      2721\n",
       "3      2491\n",
       "5      2279\n",
       "8      2237\n",
       "11     2068\n",
       "9      1521\n",
       "Name: Outputs14, dtype: int64"
      ]
     },
     "execution_count": 17,
     "metadata": {},
     "output_type": "execute_result"
    }
   ],
   "source": [
    "# 查看每个类别数量\n",
    "data_fram['Outputs14'].value_counts()"
   ]
  },
  {
   "cell_type": "markdown",
   "metadata": {},
   "source": [
    "## 删除无用信息"
   ]
  },
  {
   "cell_type": "code",
   "execution_count": 18,
   "metadata": {},
   "outputs": [],
   "source": [
    "# 删除多余分类标准\n",
    "data_fram.drop(['Outputs7','Outputs3_1','Outputs3_2','Outputs3_3'],axis=1,inplace=True)"
   ]
  },
  {
   "cell_type": "markdown",
   "metadata": {},
   "source": [
    "## 对数据进行分层采样"
   ]
  },
  {
   "cell_type": "code",
   "execution_count": 19,
   "metadata": {},
   "outputs": [],
   "source": [
    "from sklearn.model_selection import StratifiedShuffleSplit\n",
    "\n",
    "split = StratifiedShuffleSplit(n_splits=1, test_size=0.2, random_state=2018)\n",
    "\n",
    "for train_index, test_index in split.split(data_fram, data_fram['Outputs14']):\n",
    "    train_data = data_fram.loc[train_index]\n",
    "    test_data = data_fram.loc[test_index]"
   ]
  },
  {
   "cell_type": "code",
   "execution_count": 20,
   "metadata": {},
   "outputs": [],
   "source": [
    "# 转换数据类型\n",
    "train_data_numpy_ndarray = train_data.values\n",
    "test_data_numpy_ndarray = test_data.values"
   ]
  },
  {
   "cell_type": "code",
   "execution_count": 21,
   "metadata": {},
   "outputs": [],
   "source": [
    "X_train = train_data_numpy_ndarray[:,0:126].astype(float)\n",
    "Y_train = train_data_numpy_ndarray[:,126].astype(int)\n",
    "X_test = test_data_numpy_ndarray[:,0:126].astype(float)\n",
    "Y_test = test_data_numpy_ndarray[:,126].astype(int)"
   ]
  },
  {
   "cell_type": "markdown",
   "metadata": {},
   "source": [
    "# 实验"
   ]
  },
  {
   "cell_type": "markdown",
   "metadata": {},
   "source": [
    "## 实验一"
   ]
  },
  {
   "cell_type": "code",
   "execution_count": 8,
   "metadata": {},
   "outputs": [],
   "source": [
    "model = XGBClassifier() "
   ]
  },
  {
   "cell_type": "code",
   "execution_count": 9,
   "metadata": {},
   "outputs": [
    {
     "data": {
      "text/plain": [
       "XGBClassifier(base_score=0.5, booster='gbtree', colsample_bylevel=1,\n",
       "       colsample_bytree=1, gamma=0, learning_rate=0.1, max_delta_step=0,\n",
       "       max_depth=3, min_child_weight=1, missing=None, n_estimators=100,\n",
       "       n_jobs=1, nthread=None, objective='multi:softprob', random_state=0,\n",
       "       reg_alpha=0, reg_lambda=1, scale_pos_weight=1, seed=None,\n",
       "       silent=True, subsample=1)"
      ]
     },
     "execution_count": 9,
     "metadata": {},
     "output_type": "execute_result"
    }
   ],
   "source": [
    "model.fit(X_train, Y_train)"
   ]
  },
  {
   "cell_type": "code",
   "execution_count": 10,
   "metadata": {},
   "outputs": [
    {
     "name": "stderr",
     "output_type": "stream",
     "text": [
      "D:\\Anaconda3\\lib\\site-packages\\sklearn\\preprocessing\\label.py:171: DeprecationWarning: The truth value of an empty array is ambiguous. Returning False, but in future this will result in an error. Use `array.size > 0` to check that an array is not empty.\n",
      "  if diff:\n"
     ]
    }
   ],
   "source": [
    "y_pred = model.predict(X_test)"
   ]
  },
  {
   "cell_type": "code",
   "execution_count": 11,
   "metadata": {},
   "outputs": [],
   "source": [
    "predictions = [round(value) for value in y_pred]"
   ]
  },
  {
   "cell_type": "code",
   "execution_count": 13,
   "metadata": {},
   "outputs": [
    {
     "name": "stdout",
     "output_type": "stream",
     "text": [
      "Accuracy: 34.12%\n"
     ]
    }
   ],
   "source": [
    "# evaluate predictions\n",
    "accuracy = accuracy_score(Y_test, predictions)\n",
    "print(\"Accuracy: %.2f%%\" % (accuracy * 100.0))"
   ]
  },
  {
   "cell_type": "markdown",
   "metadata": {},
   "source": [
    "## 实验二"
   ]
  },
  {
   "cell_type": "raw",
   "metadata": {},
   "source": [
    "params={\n",
    "'booster':'gbtree',\n",
    "'objective': 'multi:softmax', #多分类的问题\n",
    "'num_class':14, # 类别数，与 multisoftmax 并用\n",
    "'gamma':0.1,  # 用于控制是否后剪枝的参数,越大越保守，一般0.1、0.2这样子。\n",
    "'max_depth':12, # 构建树的深度，越大越容易过拟合\n",
    "'lambda':2,  # 控制模型复杂度的权重值的L2正则化项参数，参数越大，模型越不容易过拟合。\n",
    "'subsample':0.7, # 随机采样训练样本\n",
    "'colsample_bytree':0.7, # 生成树时进行的列采样\n",
    "'min_child_weight':3,\n",
    "# 这个参数默认是 1，是每个叶子里面 h 的和至少是多少，对正负样本不均衡时的 0-1 分类而言\n",
    "#，假设 h 在 0.01 附近，min_child_weight 为 1 意味着叶子节点中最少需要包含 100 个样本。\n",
    "#这个参数非常影响结果，控制叶子节点中二阶导的和的最小值，该参数值越小，越容易 overfitting。\n",
    "'silent':0 ,#设置成1则没有运行信息输出，最好是设置为0.\n",
    "'eta': 0.007, # 如同学习率\n",
    "'seed':1000,\n",
    "'nthread':7,# cpu 线程数\n",
    "'eval_metric': 'auc'\n",
    "}\n",
    "plst = list(params.items())\n",
    "num_rounds = 50 # 迭代次数\n",
    "watchlist = [(xgb_train, 'train'),(xgb_val, 'val')]\n",
    "\n",
    "#训练模型并保存\n",
    "# early_stopping_rounds 当设置的迭代次数较大时，early_stopping_rounds 可在一定的迭代次数内准确率没有提升就停止训练\n",
    "model = xgb.train(plst, xgb_train, num_rounds, watchlist,early_stopping_rounds=20)\n",
    "model.save_model('data/xgb.model') # 用于存储训练出的模型\n",
    "print (\"best best_ntree_limit\",model.best_ntree_limit)\n",
    "\n",
    "preds = model.predict(xgb_test,ntree_limit=model.best_ntree_limit)\n",
    "np.savetxt('xgb_submission.csv',np.c_[range(1,len(tests)+1),preds],delimiter=',',header='ImageId,Label',comments='',fmt='%d')"
   ]
  },
  {
   "cell_type": "code",
   "execution_count": 12,
   "metadata": {},
   "outputs": [
    {
     "name": "stderr",
     "output_type": "stream",
     "text": [
      "D:\\Anaconda3\\lib\\site-packages\\sklearn\\cross_validation.py:44: DeprecationWarning: This module was deprecated in version 0.18 in favor of the model_selection module into which all the refactored classes and functions are moved. Also note that the interface of the new CV iterators are different from that of this module. This module will be removed in 0.20.\n",
      "  \"This module will be removed in 0.20.\", DeprecationWarning)\n"
     ]
    }
   ],
   "source": [
    "from sklearn.model_selection import GridSearchCV\n",
    "from sklearn.cross_validation import *"
   ]
  },
  {
   "cell_type": "code",
   "execution_count": 22,
   "metadata": {},
   "outputs": [
    {
     "ename": "ValueError",
     "evalue": "Parameter values for parameter (objective) need to be a sequence(but not a string) or np.ndarray.",
     "output_type": "error",
     "traceback": [
      "\u001b[1;31m---------------------------------------------------------------------------\u001b[0m",
      "\u001b[1;31mValueError\u001b[0m                                Traceback (most recent call last)",
      "\u001b[1;32m<ipython-input-22-c285acb58fd6>\u001b[0m in \u001b[0;36m<module>\u001b[1;34m()\u001b[0m\n\u001b[0;32m     26\u001b[0m                    \u001b[0mcv\u001b[0m\u001b[1;33m=\u001b[0m\u001b[0mStratifiedKFold\u001b[0m\u001b[1;33m(\u001b[0m\u001b[0mY_train\u001b[0m\u001b[1;33m,\u001b[0m \u001b[0mn_folds\u001b[0m\u001b[1;33m=\u001b[0m\u001b[1;36m3\u001b[0m\u001b[1;33m,\u001b[0m \u001b[0mshuffle\u001b[0m\u001b[1;33m=\u001b[0m\u001b[1;32mTrue\u001b[0m\u001b[1;33m)\u001b[0m\u001b[1;33m,\u001b[0m\u001b[1;33m\u001b[0m\u001b[0m\n\u001b[0;32m     27\u001b[0m                    \u001b[0mscoring\u001b[0m\u001b[1;33m=\u001b[0m\u001b[1;34m'roc_auc'\u001b[0m\u001b[1;33m,\u001b[0m\u001b[1;33m\u001b[0m\u001b[0m\n\u001b[1;32m---> 28\u001b[1;33m                    verbose=2, refit=True)\n\u001b[0m",
      "\u001b[1;32mD:\\Anaconda3\\lib\\site-packages\\sklearn\\model_selection\\_search.py\u001b[0m in \u001b[0;36m__init__\u001b[1;34m(self, estimator, param_grid, scoring, fit_params, n_jobs, iid, refit, cv, verbose, pre_dispatch, error_score, return_train_score)\u001b[0m\n\u001b[0;32m    923\u001b[0m             return_train_score=return_train_score)\n\u001b[0;32m    924\u001b[0m         \u001b[0mself\u001b[0m\u001b[1;33m.\u001b[0m\u001b[0mparam_grid\u001b[0m \u001b[1;33m=\u001b[0m \u001b[0mparam_grid\u001b[0m\u001b[1;33m\u001b[0m\u001b[0m\n\u001b[1;32m--> 925\u001b[1;33m         \u001b[0m_check_param_grid\u001b[0m\u001b[1;33m(\u001b[0m\u001b[0mparam_grid\u001b[0m\u001b[1;33m)\u001b[0m\u001b[1;33m\u001b[0m\u001b[0m\n\u001b[0m\u001b[0;32m    926\u001b[0m \u001b[1;33m\u001b[0m\u001b[0m\n\u001b[0;32m    927\u001b[0m     \u001b[1;32mdef\u001b[0m \u001b[0mfit\u001b[0m\u001b[1;33m(\u001b[0m\u001b[0mself\u001b[0m\u001b[1;33m,\u001b[0m \u001b[0mX\u001b[0m\u001b[1;33m,\u001b[0m \u001b[0my\u001b[0m\u001b[1;33m=\u001b[0m\u001b[1;32mNone\u001b[0m\u001b[1;33m,\u001b[0m \u001b[0mgroups\u001b[0m\u001b[1;33m=\u001b[0m\u001b[1;32mNone\u001b[0m\u001b[1;33m)\u001b[0m\u001b[1;33m:\u001b[0m\u001b[1;33m\u001b[0m\u001b[0m\n",
      "\u001b[1;32mD:\\Anaconda3\\lib\\site-packages\\sklearn\\model_selection\\_search.py\u001b[0m in \u001b[0;36m_check_param_grid\u001b[1;34m(param_grid)\u001b[0m\n\u001b[0;32m    340\u001b[0m                 raise ValueError(\"Parameter values for parameter ({0}) need \"\n\u001b[0;32m    341\u001b[0m                                  \u001b[1;34m\"to be a sequence(but not a string) or\"\u001b[0m\u001b[1;33m\u001b[0m\u001b[0m\n\u001b[1;32m--> 342\u001b[1;33m                                  \" np.ndarray.\".format(name))\n\u001b[0m\u001b[0;32m    343\u001b[0m \u001b[1;33m\u001b[0m\u001b[0m\n\u001b[0;32m    344\u001b[0m             \u001b[1;32mif\u001b[0m \u001b[0mlen\u001b[0m\u001b[1;33m(\u001b[0m\u001b[0mv\u001b[0m\u001b[1;33m)\u001b[0m \u001b[1;33m==\u001b[0m \u001b[1;36m0\u001b[0m\u001b[1;33m:\u001b[0m\u001b[1;33m\u001b[0m\u001b[0m\n",
      "\u001b[1;31mValueError\u001b[0m: Parameter values for parameter (objective) need to be a sequence(but not a string) or np.ndarray."
     ]
    }
   ],
   "source": [
    "\n",
    "xgb_model = xgb.XGBClassifier()\n",
    "\n",
    "#brute force scan for all parameters, here are the tricks\n",
    "#usually max_depth is 6,7,8\n",
    "#learning rate is around 0.05, but small changes may make big diff\n",
    "#tuning min_child_weight subsample colsample_bytree can have \n",
    "#much fun of fighting against overfit \n",
    "#n_estimators is how many round of boosting\n",
    "#finally, ensemble xgboost with multiple seeds may reduce variance\n",
    "parameters = {'nthread':[4], #when use hyperthread, xgboost may become slower\n",
    "              'objective': 'multi:softmax', #多分类的问题\n",
    "              'num_class':14, # 类别数，与 multisoftmax 并用\n",
    "              'learning_rate': [0.05], #so called `eta` value\n",
    "              'max_depth': [10],\n",
    "              'min_child_weight': [11],\n",
    "              'silent': [1],\n",
    "              'subsample': [0.8],\n",
    "              'colsample_bytree': [0.7],\n",
    "              'n_estimators': [100], #number of trees, change it to 1000 for better results\n",
    "              'missing':[-999],\n",
    "              'seed': [2018],\n",
    "             'eval_metric':'merror'}\n",
    "\n",
    "clf = GridSearchCV(xgb_model, parameters, n_jobs=5, \n",
    "                   cv=StratifiedKFold(Y_train, n_folds=3, shuffle=True), \n",
    "                   scoring='roc_auc',\n",
    "                   verbose=2, refit=True)\n"
   ]
  },
  {
   "cell_type": "code",
   "execution_count": null,
   "metadata": {},
   "outputs": [],
   "source": [
    "clf.fit(train[features], train[\"QuoteConversion_Flag\"])"
   ]
  }
 ],
 "metadata": {
  "kernelspec": {
   "display_name": "Python 3",
   "language": "python",
   "name": "python3"
  },
  "language_info": {
   "codemirror_mode": {
    "name": "ipython",
    "version": 3
   },
   "file_extension": ".py",
   "mimetype": "text/x-python",
   "name": "python",
   "nbconvert_exporter": "python",
   "pygments_lexer": "ipython3",
   "version": "3.6.6"
  }
 },
 "nbformat": 4,
 "nbformat_minor": 2
}
