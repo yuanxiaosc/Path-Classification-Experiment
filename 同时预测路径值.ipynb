{
 "cells": [
  {
   "cell_type": "code",
   "execution_count": 15,
   "metadata": {
    "collapsed": true
   },
   "outputs": [],
   "source": [
    "from sklearn.model_selection import train_test_split\n",
    "from keras.models import Sequential, load_model\n",
    "from keras.layers import Activation\n",
    "from keras.layers import Dense, Dropout\n",
    "from keras.layers.normalization import BatchNormalization\n",
    "from keras.utils import np_utils\n",
    "import pandas as pd\n",
    "import numpy as np"
   ]
  },
  {
   "cell_type": "code",
   "execution_count": 2,
   "metadata": {},
   "outputs": [],
   "source": [
    "data_fram = pd.read_csv('data/Features.csv')"
   ]
  },
  {
   "cell_type": "code",
   "execution_count": 3,
   "metadata": {},
   "outputs": [
    {
     "data": {
      "text/html": [
       "<div>\n",
       "<style scoped>\n",
       "    .dataframe tbody tr th:only-of-type {\n",
       "        vertical-align: middle;\n",
       "    }\n",
       "\n",
       "    .dataframe tbody tr th {\n",
       "        vertical-align: top;\n",
       "    }\n",
       "\n",
       "    .dataframe thead th {\n",
       "        text-align: right;\n",
       "    }\n",
       "</style>\n",
       "<table border=\"1\" class=\"dataframe\">\n",
       "  <thead>\n",
       "    <tr style=\"text-align: right;\">\n",
       "      <th></th>\n",
       "      <th>dates</th>\n",
       "      <th>OBJs</th>\n",
       "      <th>ODs_1</th>\n",
       "      <th>ODs_2</th>\n",
       "      <th>depTimes</th>\n",
       "      <th>expPerf</th>\n",
       "      <th>staticPerf</th>\n",
       "      <th>grdyPerf</th>\n",
       "      <th>godPerf</th>\n",
       "      <th>distances</th>\n",
       "      <th>...</th>\n",
       "      <th>stmutC_grdyPath_3</th>\n",
       "      <th>YesterdayGrdyPerf</th>\n",
       "      <th>YesterdayGodPerf</th>\n",
       "      <th>YesterdayStaPerf</th>\n",
       "      <th>YesterdayExpPerf</th>\n",
       "      <th>Outputs14</th>\n",
       "      <th>Outputs7</th>\n",
       "      <th>Outputs3_1</th>\n",
       "      <th>Outputs3_2</th>\n",
       "      <th>Outputs3_3</th>\n",
       "    </tr>\n",
       "  </thead>\n",
       "  <tbody>\n",
       "    <tr>\n",
       "      <th>0</th>\n",
       "      <td>4.19</td>\n",
       "      <td>1</td>\n",
       "      <td>1386</td>\n",
       "      <td>1821</td>\n",
       "      <td>16454</td>\n",
       "      <td>901.873155</td>\n",
       "      <td>943.341039</td>\n",
       "      <td>879.878944</td>\n",
       "      <td>802.674362</td>\n",
       "      <td>0.089257</td>\n",
       "      <td>...</td>\n",
       "      <td>0.475829</td>\n",
       "      <td>999.074209</td>\n",
       "      <td>955.166635</td>\n",
       "      <td>997.787702</td>\n",
       "      <td>986.738929</td>\n",
       "      <td>13</td>\n",
       "      <td>6</td>\n",
       "      <td>-1</td>\n",
       "      <td>0</td>\n",
       "      <td>-1</td>\n",
       "    </tr>\n",
       "    <tr>\n",
       "      <th>1</th>\n",
       "      <td>4.19</td>\n",
       "      <td>1</td>\n",
       "      <td>529</td>\n",
       "      <td>1199</td>\n",
       "      <td>14062</td>\n",
       "      <td>905.320230</td>\n",
       "      <td>650.077643</td>\n",
       "      <td>650.077643</td>\n",
       "      <td>650.077643</td>\n",
       "      <td>0.053294</td>\n",
       "      <td>...</td>\n",
       "      <td>0.550532</td>\n",
       "      <td>667.675168</td>\n",
       "      <td>585.119637</td>\n",
       "      <td>655.264699</td>\n",
       "      <td>585.119637</td>\n",
       "      <td>2</td>\n",
       "      <td>2</td>\n",
       "      <td>1</td>\n",
       "      <td>1</td>\n",
       "      <td>-1</td>\n",
       "    </tr>\n",
       "    <tr>\n",
       "      <th>2</th>\n",
       "      <td>4.19</td>\n",
       "      <td>1</td>\n",
       "      <td>716</td>\n",
       "      <td>990</td>\n",
       "      <td>13779</td>\n",
       "      <td>787.775655</td>\n",
       "      <td>864.166706</td>\n",
       "      <td>925.812156</td>\n",
       "      <td>767.183548</td>\n",
       "      <td>0.080272</td>\n",
       "      <td>...</td>\n",
       "      <td>0.756983</td>\n",
       "      <td>612.851744</td>\n",
       "      <td>601.668111</td>\n",
       "      <td>975.484821</td>\n",
       "      <td>700.256755</td>\n",
       "      <td>14</td>\n",
       "      <td>7</td>\n",
       "      <td>-1</td>\n",
       "      <td>-1</td>\n",
       "      <td>0</td>\n",
       "    </tr>\n",
       "    <tr>\n",
       "      <th>3</th>\n",
       "      <td>4.19</td>\n",
       "      <td>1</td>\n",
       "      <td>547</td>\n",
       "      <td>1456</td>\n",
       "      <td>14027</td>\n",
       "      <td>625.313098</td>\n",
       "      <td>683.213117</td>\n",
       "      <td>670.375942</td>\n",
       "      <td>623.874198</td>\n",
       "      <td>0.063568</td>\n",
       "      <td>...</td>\n",
       "      <td>0.512717</td>\n",
       "      <td>670.883400</td>\n",
       "      <td>641.749020</td>\n",
       "      <td>670.883400</td>\n",
       "      <td>641.749020</td>\n",
       "      <td>14</td>\n",
       "      <td>7</td>\n",
       "      <td>-1</td>\n",
       "      <td>-1</td>\n",
       "      <td>0</td>\n",
       "    </tr>\n",
       "    <tr>\n",
       "      <th>4</th>\n",
       "      <td>4.19</td>\n",
       "      <td>1</td>\n",
       "      <td>914</td>\n",
       "      <td>1073</td>\n",
       "      <td>14355</td>\n",
       "      <td>604.748398</td>\n",
       "      <td>618.476141</td>\n",
       "      <td>620.277530</td>\n",
       "      <td>595.945774</td>\n",
       "      <td>0.047176</td>\n",
       "      <td>...</td>\n",
       "      <td>0.289439</td>\n",
       "      <td>590.331899</td>\n",
       "      <td>590.331899</td>\n",
       "      <td>657.448103</td>\n",
       "      <td>611.118098</td>\n",
       "      <td>14</td>\n",
       "      <td>7</td>\n",
       "      <td>-1</td>\n",
       "      <td>-1</td>\n",
       "      <td>0</td>\n",
       "    </tr>\n",
       "  </tbody>\n",
       "</table>\n",
       "<p>5 rows × 135 columns</p>\n",
       "</div>"
      ],
      "text/plain": [
       "   dates  OBJs  ODs_1  ODs_2  depTimes    expPerf   staticPerf    grdyPerf   \\\n",
       "0   4.19     1   1386   1821     16454  901.873155   943.341039  879.878944   \n",
       "1   4.19     1    529   1199     14062  905.320230   650.077643  650.077643   \n",
       "2   4.19     1    716    990     13779  787.775655   864.166706  925.812156   \n",
       "3   4.19     1    547   1456     14027  625.313098   683.213117  670.375942   \n",
       "4   4.19     1    914   1073     14355  604.748398   618.476141  620.277530   \n",
       "\n",
       "      godPerf  distances     ...      stmutC_grdyPath_3  YesterdayGrdyPerf  \\\n",
       "0  802.674362   0.089257     ...               0.475829         999.074209   \n",
       "1  650.077643   0.053294     ...               0.550532         667.675168   \n",
       "2  767.183548   0.080272     ...               0.756983         612.851744   \n",
       "3  623.874198   0.063568     ...               0.512717         670.883400   \n",
       "4  595.945774   0.047176     ...               0.289439         590.331899   \n",
       "\n",
       "   YesterdayGodPerf  YesterdayStaPerf  YesterdayExpPerf  Outputs14  Outputs7  \\\n",
       "0        955.166635        997.787702        986.738929         13         6   \n",
       "1        585.119637        655.264699        585.119637          2         2   \n",
       "2        601.668111        975.484821        700.256755         14         7   \n",
       "3        641.749020        670.883400        641.749020         14         7   \n",
       "4        590.331899        657.448103        611.118098         14         7   \n",
       "\n",
       "   Outputs3_1  Outputs3_2  Outputs3_3  \n",
       "0          -1           0          -1  \n",
       "1           1           1          -1  \n",
       "2          -1          -1           0  \n",
       "3          -1          -1           0  \n",
       "4          -1          -1           0  \n",
       "\n",
       "[5 rows x 135 columns]"
      ]
     },
     "execution_count": 3,
     "metadata": {},
     "output_type": "execute_result"
    }
   ],
   "source": [
    "data_fram.head()"
   ]
  },
  {
   "cell_type": "code",
   "execution_count": 4,
   "metadata": {},
   "outputs": [
    {
     "data": {
      "text/html": [
       "<div>\n",
       "<style scoped>\n",
       "    .dataframe tbody tr th:only-of-type {\n",
       "        vertical-align: middle;\n",
       "    }\n",
       "\n",
       "    .dataframe tbody tr th {\n",
       "        vertical-align: top;\n",
       "    }\n",
       "\n",
       "    .dataframe thead th {\n",
       "        text-align: right;\n",
       "    }\n",
       "</style>\n",
       "<table border=\"1\" class=\"dataframe\">\n",
       "  <thead>\n",
       "    <tr style=\"text-align: right;\">\n",
       "      <th></th>\n",
       "      <th>expPerf</th>\n",
       "      <th>staticPerf</th>\n",
       "      <th>grdyPerf</th>\n",
       "      <th>godPerf</th>\n",
       "      <th>distances</th>\n",
       "      <th>CR_staPath</th>\n",
       "      <th>CR_expPath</th>\n",
       "      <th>CR_godPath</th>\n",
       "      <th>CR_grdyPath</th>\n",
       "      <th>averObjValue_staPath</th>\n",
       "      <th>...</th>\n",
       "      <th>stmutC_grdyPath_3</th>\n",
       "      <th>YesterdayGrdyPerf</th>\n",
       "      <th>YesterdayGodPerf</th>\n",
       "      <th>YesterdayStaPerf</th>\n",
       "      <th>YesterdayExpPerf</th>\n",
       "      <th>Outputs14</th>\n",
       "      <th>Outputs7</th>\n",
       "      <th>Outputs3_1</th>\n",
       "      <th>Outputs3_2</th>\n",
       "      <th>Outputs3_3</th>\n",
       "    </tr>\n",
       "  </thead>\n",
       "  <tbody>\n",
       "    <tr>\n",
       "      <th>0</th>\n",
       "      <td>901.873155</td>\n",
       "      <td>943.341039</td>\n",
       "      <td>879.878944</td>\n",
       "      <td>802.674362</td>\n",
       "      <td>0.089257</td>\n",
       "      <td>38</td>\n",
       "      <td>36</td>\n",
       "      <td>33</td>\n",
       "      <td>34</td>\n",
       "      <td>1002.583614</td>\n",
       "      <td>...</td>\n",
       "      <td>0.475829</td>\n",
       "      <td>999.074209</td>\n",
       "      <td>955.166635</td>\n",
       "      <td>997.787702</td>\n",
       "      <td>986.738929</td>\n",
       "      <td>13</td>\n",
       "      <td>6</td>\n",
       "      <td>-1</td>\n",
       "      <td>0</td>\n",
       "      <td>-1</td>\n",
       "    </tr>\n",
       "    <tr>\n",
       "      <th>1</th>\n",
       "      <td>905.320230</td>\n",
       "      <td>650.077643</td>\n",
       "      <td>650.077643</td>\n",
       "      <td>650.077643</td>\n",
       "      <td>0.053294</td>\n",
       "      <td>14</td>\n",
       "      <td>11</td>\n",
       "      <td>11</td>\n",
       "      <td>10</td>\n",
       "      <td>691.118469</td>\n",
       "      <td>...</td>\n",
       "      <td>0.550532</td>\n",
       "      <td>667.675168</td>\n",
       "      <td>585.119637</td>\n",
       "      <td>655.264699</td>\n",
       "      <td>585.119637</td>\n",
       "      <td>2</td>\n",
       "      <td>2</td>\n",
       "      <td>1</td>\n",
       "      <td>1</td>\n",
       "      <td>-1</td>\n",
       "    </tr>\n",
       "    <tr>\n",
       "      <th>2</th>\n",
       "      <td>787.775655</td>\n",
       "      <td>864.166706</td>\n",
       "      <td>925.812156</td>\n",
       "      <td>767.183548</td>\n",
       "      <td>0.080272</td>\n",
       "      <td>22</td>\n",
       "      <td>18</td>\n",
       "      <td>18</td>\n",
       "      <td>17</td>\n",
       "      <td>981.840365</td>\n",
       "      <td>...</td>\n",
       "      <td>0.756983</td>\n",
       "      <td>612.851744</td>\n",
       "      <td>601.668111</td>\n",
       "      <td>975.484821</td>\n",
       "      <td>700.256755</td>\n",
       "      <td>14</td>\n",
       "      <td>7</td>\n",
       "      <td>-1</td>\n",
       "      <td>-1</td>\n",
       "      <td>0</td>\n",
       "    </tr>\n",
       "    <tr>\n",
       "      <th>3</th>\n",
       "      <td>625.313098</td>\n",
       "      <td>683.213117</td>\n",
       "      <td>670.375942</td>\n",
       "      <td>623.874198</td>\n",
       "      <td>0.063568</td>\n",
       "      <td>11</td>\n",
       "      <td>11</td>\n",
       "      <td>11</td>\n",
       "      <td>11</td>\n",
       "      <td>704.890220</td>\n",
       "      <td>...</td>\n",
       "      <td>0.512717</td>\n",
       "      <td>670.883400</td>\n",
       "      <td>641.749020</td>\n",
       "      <td>670.883400</td>\n",
       "      <td>641.749020</td>\n",
       "      <td>14</td>\n",
       "      <td>7</td>\n",
       "      <td>-1</td>\n",
       "      <td>-1</td>\n",
       "      <td>0</td>\n",
       "    </tr>\n",
       "    <tr>\n",
       "      <th>4</th>\n",
       "      <td>604.748398</td>\n",
       "      <td>618.476141</td>\n",
       "      <td>620.277530</td>\n",
       "      <td>595.945774</td>\n",
       "      <td>0.047176</td>\n",
       "      <td>18</td>\n",
       "      <td>18</td>\n",
       "      <td>17</td>\n",
       "      <td>17</td>\n",
       "      <td>644.648402</td>\n",
       "      <td>...</td>\n",
       "      <td>0.289439</td>\n",
       "      <td>590.331899</td>\n",
       "      <td>590.331899</td>\n",
       "      <td>657.448103</td>\n",
       "      <td>611.118098</td>\n",
       "      <td>14</td>\n",
       "      <td>7</td>\n",
       "      <td>-1</td>\n",
       "      <td>-1</td>\n",
       "      <td>0</td>\n",
       "    </tr>\n",
       "  </tbody>\n",
       "</table>\n",
       "<p>5 rows × 130 columns</p>\n",
       "</div>"
      ],
      "text/plain": [
       "     expPerf   staticPerf    grdyPerf      godPerf  distances  CR_staPath  \\\n",
       "0  901.873155   943.341039  879.878944  802.674362   0.089257          38   \n",
       "1  905.320230   650.077643  650.077643  650.077643   0.053294          14   \n",
       "2  787.775655   864.166706  925.812156  767.183548   0.080272          22   \n",
       "3  625.313098   683.213117  670.375942  623.874198   0.063568          11   \n",
       "4  604.748398   618.476141  620.277530  595.945774   0.047176          18   \n",
       "\n",
       "   CR_expPath  CR_godPath  CR_grdyPath  averObjValue_staPath     ...      \\\n",
       "0          36          33           34           1002.583614     ...       \n",
       "1          11          11           10            691.118469     ...       \n",
       "2          18          18           17            981.840365     ...       \n",
       "3          11          11           11            704.890220     ...       \n",
       "4          18          17           17            644.648402     ...       \n",
       "\n",
       "   stmutC_grdyPath_3  YesterdayGrdyPerf  YesterdayGodPerf  YesterdayStaPerf  \\\n",
       "0           0.475829         999.074209        955.166635        997.787702   \n",
       "1           0.550532         667.675168        585.119637        655.264699   \n",
       "2           0.756983         612.851744        601.668111        975.484821   \n",
       "3           0.512717         670.883400        641.749020        670.883400   \n",
       "4           0.289439         590.331899        590.331899        657.448103   \n",
       "\n",
       "   YesterdayExpPerf  Outputs14  Outputs7  Outputs3_1  Outputs3_2  Outputs3_3  \n",
       "0        986.738929         13         6          -1           0          -1  \n",
       "1        585.119637          2         2           1           1          -1  \n",
       "2        700.256755         14         7          -1          -1           0  \n",
       "3        641.749020         14         7          -1          -1           0  \n",
       "4        611.118098         14         7          -1          -1           0  \n",
       "\n",
       "[5 rows x 130 columns]"
      ]
     },
     "execution_count": 4,
     "metadata": {},
     "output_type": "execute_result"
    }
   ],
   "source": [
    "data_fram.drop(['dates', 'OBJs', 'ODs_1', 'ODs_2', 'depTimes'], axis=1, inplace=True)\n",
    "data_fram.head()"
   ]
  },
  {
   "cell_type": "code",
   "execution_count": 5,
   "metadata": {},
   "outputs": [
    {
     "name": "stderr",
     "output_type": "stream",
     "text": [
      "D:\\Anaconda3\\envs\\machinelearn\\lib\\site-packages\\ipykernel_launcher.py:1: FutureWarning: Method .as_matrix will be removed in a future version. Use .values instead.\n",
      "  \"\"\"Entry point for launching an IPython kernel.\n"
     ]
    }
   ],
   "source": [
    "Data = data_fram.as_matrix()\n",
    "X = Data[:, 4:125].astype(float)\n",
    "Y = Data[:, :4]"
   ]
  },
  {
   "cell_type": "code",
   "execution_count": 6,
   "metadata": {},
   "outputs": [],
   "source": [
    "x_train, x_test, y_train, y_test = train_test_split(X, Y, random_state=32, test_size=0.2)"
   ]
  },
  {
   "cell_type": "code",
   "execution_count": 7,
   "metadata": {},
   "outputs": [],
   "source": [
    "from sklearn.preprocessing import minmax_scale\n",
    "X_train_std = minmax_scale(x_train)\n",
    "X_test_std = minmax_scale(x_test)\n",
    "#X_train_std = standar_s.fit_transform(x_train)\n",
    "#X_test_std = standar_s.fit_transform(x_test)"
   ]
  },
  {
   "cell_type": "code",
   "execution_count": 9,
   "metadata": {
    "collapsed": true
   },
   "outputs": [],
   "source": [
    "def create_model_1():\n",
    "    model = Sequential()\n",
    "    model.add(Dense(units=1024, kernel_initializer='random_normal',input_dim=X_train_std.shape[1]))\n",
    "    model.add(Activation('relu'))\n",
    "    model.add(Dropout(0.25))\n",
    "    model.add(Dense(units=512, kernel_initializer='random_normal'))\n",
    "    model.add(Activation('relu'))\n",
    "    model.add(Dense(units=256, kernel_initializer='random_normal'))\n",
    "    model.add(Activation('relu'))\n",
    "    model.add(Dense(units=32, kernel_initializer='random_normal'))\n",
    "    model.add(Activation('relu'))\n",
    "    model.add(Dense(units=4))\n",
    "    model.compile(loss='mean_squared_error',\n",
    "                  optimizer='adam',\n",
    "                  metrics=['mae'])\n",
    "    return model"
   ]
  },
  {
   "cell_type": "code",
   "execution_count": 10,
   "metadata": {},
   "outputs": [],
   "source": [
    "a_model_1 = create_model_1()"
   ]
  },
  {
   "cell_type": "code",
   "execution_count": 14,
   "metadata": {
    "collapsed": true
   },
   "outputs": [
    {
     "name": "stdout",
     "output_type": "stream",
     "text": [
      "Train on 65228 samples, validate on 16307 samples\n",
      "Epoch 1/5\n",
      "65228/65228 [==============================] - 21s 321us/step - loss: 13538.1905 - mean_absolute_error: 82.1542 - val_loss: 12392.3967 - val_mean_absolute_error: 79.1224\n",
      "Epoch 2/5\n",
      "  640/65228 [..............................] - ETA: 18s - loss: 12637.4562 - mean_absolute_error: 77.4495"
     ]
    },
    {
     "name": "stderr",
     "output_type": "stream",
     "text": [
      "D:\\Anaconda3\\envs\\machinelearn\\lib\\site-packages\\keras\\callbacks.py:432: RuntimeWarning: Can save best model only with val_acc available, skipping.\n",
      "  'skipping.' % (self.monitor), RuntimeWarning)\n"
     ]
    },
    {
     "name": "stdout",
     "output_type": "stream",
     "text": [
      "65228/65228 [==============================] - 23s 357us/step - loss: 13270.5898 - mean_absolute_error: 81.2639 - val_loss: 14139.9334 - val_mean_absolute_error: 82.7673\n",
      "Epoch 3/5\n",
      "65228/65228 [==============================] - 23s 348us/step - loss: 13367.2519 - mean_absolute_error: 81.5978 - val_loss: 12442.2043 - val_mean_absolute_error: 78.6329\n",
      "Epoch 4/5\n",
      "65228/65228 [==============================] - 23s 353us/step - loss: 13352.6338 - mean_absolute_error: 81.6605 - val_loss: 12325.6029 - val_mean_absolute_error: 78.6573\n",
      "Epoch 5/5\n",
      "65228/65228 [==============================] - 22s 331us/step - loss: 13247.8769 - mean_absolute_error: 81.3307 - val_loss: 13282.0206 - val_mean_absolute_error: 80.4085\n"
     ]
    },
    {
     "data": {
      "text/plain": [
       "<keras.callbacks.History at 0x3567fa20>"
      ]
     },
     "execution_count": 14,
     "metadata": {},
     "output_type": "execute_result"
    }
   ],
   "source": [
    "from keras.callbacks import TensorBoard\n",
    "from keras.callbacks import ModelCheckpoint\n",
    "a_model_1.fit(X_train_std,y_train,batch_size=64,epochs=5,validation_split=0.2,shuffle=True,\n",
    "              callbacks=[TensorBoard(log_dir='./logs/{}'.format(\"同时预测_3\")),\n",
    "                        ModelCheckpoint(filepath='sanme_time_model_3.hdf5', monitor='val_acc', mode='auto', save_best_only='True')\n",
    "                     ])"
   ]
  },
  {
   "cell_type": "code",
   "execution_count": 13,
   "metadata": {},
   "outputs": [],
   "source": [
    "a_model_1.save('sanme_time_model_1.hdf5')"
   ]
  },
  {
   "cell_type": "code",
   "execution_count": 16,
   "metadata": {},
   "outputs": [],
   "source": [
    "a_model_1 = load_model('sanme_time_model_1.hdf5')"
   ]
  },
  {
   "cell_type": "code",
   "execution_count": 17,
   "metadata": {},
   "outputs": [
    {
     "name": "stdout",
     "output_type": "stream",
     "text": [
      "20384/20384 [==============================] - 1s 61us/step\n"
     ]
    },
    {
     "data": {
      "text/plain": [
       "[17610.96771671409, 94.12304631207763]"
      ]
     },
     "execution_count": 17,
     "metadata": {},
     "output_type": "execute_result"
    }
   ],
   "source": [
    "a_model_1.evaluate(X_test_std,y_test)"
   ]
  },
  {
   "cell_type": "markdown",
   "metadata": {},
   "source": [
    "# 评估函数"
   ]
  },
  {
   "cell_type": "code",
   "execution_count": 18,
   "metadata": {},
   "outputs": [
    {
     "data": {
      "text/plain": [
       "(20384, 4)"
      ]
     },
     "execution_count": 18,
     "metadata": {},
     "output_type": "execute_result"
    }
   ],
   "source": [
    "pred_y = a_model_1.predict(X_test_std)\n",
    "pred_y.shape"
   ]
  },
  {
   "cell_type": "code",
   "execution_count": 19,
   "metadata": {},
   "outputs": [
    {
     "data": {
      "text/plain": [
       "(20384, 4)"
      ]
     },
     "execution_count": 19,
     "metadata": {},
     "output_type": "execute_result"
    }
   ],
   "source": [
    "y_test.shape"
   ]
  },
  {
   "cell_type": "code",
   "execution_count": 20,
   "metadata": {},
   "outputs": [],
   "source": [
    "pred_y = pred_y[:,:-1]\n",
    "y_test = y_test[:,:-1]"
   ]
  },
  {
   "cell_type": "code",
   "execution_count": 21,
   "metadata": {},
   "outputs": [
    {
     "data": {
      "text/plain": [
       "(20384, 3)"
      ]
     },
     "execution_count": 21,
     "metadata": {},
     "output_type": "execute_result"
    }
   ],
   "source": [
    "pred_y.shape"
   ]
  },
  {
   "cell_type": "code",
   "execution_count": 22,
   "metadata": {},
   "outputs": [
    {
     "data": {
      "text/plain": [
       "array([[1241.5509 , 1319.9374 , 1269.0323 ],\n",
       "       [ 599.5573 ,  611.12006,  606.10046],\n",
       "       [ 452.7318 ,  468.24078,  450.9761 ],\n",
       "       [2161.0093 , 2287.1296 , 2153.5337 ],\n",
       "       [ 321.174  ,  322.893  ,  322.23697],\n",
       "       [1770.2662 , 1804.764  , 1782.2668 ],\n",
       "       [1400.8785 , 1448.3877 , 1429.4009 ],\n",
       "       [1481.9287 , 1572.97   , 1530.2032 ],\n",
       "       [3025.093  , 3151.253  , 2983.784  ],\n",
       "       [ 891.631  ,  942.3945 ,  914.44165]], dtype=float32)"
      ]
     },
     "execution_count": 22,
     "metadata": {},
     "output_type": "execute_result"
    }
   ],
   "source": [
    "pred_y[:10]"
   ]
  },
  {
   "cell_type": "code",
   "execution_count": 23,
   "metadata": {},
   "outputs": [
    {
     "data": {
      "text/plain": [
       "array([[1162.102453 , 1230.058085 , 1130.901853 ],\n",
       "       [ 584.2194133,  584.2194133,  671.7974949],\n",
       "       [ 460.8610267,  491.6431113,  475.0605209],\n",
       "       [2013.833367 , 2107.497762 , 1968.842429 ],\n",
       "       [ 418.4396007,  418.4396007,  424.092712 ],\n",
       "       [1581.096673 , 1587.709253 , 1713.614745 ],\n",
       "       [1267.163825 , 1415.935566 , 1278.598199 ],\n",
       "       [1360.806735 , 1457.265915 , 1437.216663 ],\n",
       "       [2565.988519 , 2798.710071 , 2485.731319 ],\n",
       "       [ 899.0938844,  913.8069544,  864.1062196]])"
      ]
     },
     "execution_count": 23,
     "metadata": {},
     "output_type": "execute_result"
    }
   ],
   "source": [
    "y_test[:10]"
   ]
  },
  {
   "cell_type": "code",
   "execution_count": 24,
   "metadata": {},
   "outputs": [
    {
     "data": {
      "text/plain": [
       "numpy.ndarray"
      ]
     },
     "execution_count": 24,
     "metadata": {},
     "output_type": "execute_result"
    }
   ],
   "source": [
    "type(pred_y)"
   ]
  },
  {
   "cell_type": "markdown",
   "metadata": {},
   "source": [
    "### ndarray 转换成 datafram"
   ]
  },
  {
   "cell_type": "code",
   "execution_count": 25,
   "metadata": {},
   "outputs": [],
   "source": [
    "import pandas as pd"
   ]
  },
  {
   "cell_type": "code",
   "execution_count": 26,
   "metadata": {},
   "outputs": [],
   "source": [
    "pred_y_df = pd.DataFrame(pred_y)"
   ]
  },
  {
   "cell_type": "code",
   "execution_count": 28,
   "metadata": {},
   "outputs": [],
   "source": [
    "y_test_df = pd.DataFrame(y_test)"
   ]
  },
  {
   "cell_type": "code",
   "execution_count": 29,
   "metadata": {},
   "outputs": [],
   "source": [
    "pred_y_df.to_csv('y_test_pred.csv')"
   ]
  },
  {
   "cell_type": "code",
   "execution_count": 30,
   "metadata": {},
   "outputs": [],
   "source": [
    "y_test_df.to_csv('y_test.csv')"
   ]
  },
  {
   "cell_type": "markdown",
   "metadata": {},
   "source": [
    "# 分析 y_test 与 pred_y 数据关系"
   ]
  },
  {
   "cell_type": "code",
   "execution_count": 31,
   "metadata": {},
   "outputs": [
    {
     "data": {
      "text/plain": [
       "array([1130.901853 ,  584.2194133,  460.8610267, 1968.842429 ,\n",
       "        418.4396007, 1581.096673 , 1267.163825 , 1360.806735 ,\n",
       "       2485.731319 ,  864.1062196])"
      ]
     },
     "execution_count": 31,
     "metadata": {},
     "output_type": "execute_result"
    }
   ],
   "source": [
    "np.min(y_test[:10],axis=1)"
   ]
  },
  {
   "cell_type": "code",
   "execution_count": 32,
   "metadata": {},
   "outputs": [
    {
     "data": {
      "text/plain": [
       "array([584.2194133, 584.2194133, 671.7974949])"
      ]
     },
     "execution_count": 32,
     "metadata": {},
     "output_type": "execute_result"
    }
   ],
   "source": [
    "y_test[1]"
   ]
  },
  {
   "cell_type": "code",
   "execution_count": 33,
   "metadata": {},
   "outputs": [
    {
     "data": {
      "text/plain": [
       "(array([0], dtype=int64),)"
      ]
     },
     "execution_count": 33,
     "metadata": {},
     "output_type": "execute_result"
    }
   ],
   "source": [
    "np.where(pred_y[0]==np.min(pred_y[0]))"
   ]
  },
  {
   "cell_type": "code",
   "execution_count": 34,
   "metadata": {},
   "outputs": [
    {
     "data": {
      "text/plain": [
       "1162.102453"
      ]
     },
     "execution_count": 34,
     "metadata": {},
     "output_type": "execute_result"
    }
   ],
   "source": [
    "y_test[0][0]"
   ]
  },
  {
   "cell_type": "code",
   "execution_count": 35,
   "metadata": {},
   "outputs": [],
   "source": [
    "def evaluate_function(pred_y, y_test, threshold):\n",
    "    cout_num = 0\n",
    "    accord_threshold = 0\n",
    "    for idx in range(pred_y.shape[0]):\n",
    "        if(np.max(y_test[idx]) - np.min(y_test[idx]))<= threshold:\n",
    "            accord_threshold +=1\n",
    "            cout_num+=1\n",
    "        else:\n",
    "            A,B,C = y_test[idx][0],y_test[idx][1],y_test[idx][2]\n",
    "            if (A<=B and B<=C) or (A<=C and C<=B):\n",
    "                if np.min(pred_y[idx]) == pred_y[idx][0]:\n",
    "                    cout_num+=1\n",
    "            elif (B<=A and A<=C) or (B<=C and C<=A):\n",
    "                if np.min(pred_y[idx]) == pred_y[idx][1]:\n",
    "                    cout_num+=1\n",
    "            elif (C<=A and A<=B) or (C<=B and B<=A):\n",
    "                if np.min(pred_y[idx]) == pred_y[idx][2]:\n",
    "                    cout_num+=1\n",
    "    return accord_threshold/pred_y.shape[0],cout_num/pred_y.shape[0]\n",
    "    "
   ]
  },
  {
   "cell_type": "code",
   "execution_count": 36,
   "metadata": {},
   "outputs": [
    {
     "data": {
      "text/plain": [
       "(0.2315541601255887, 0.6146487441130298)"
      ]
     },
     "execution_count": 36,
     "metadata": {},
     "output_type": "execute_result"
    }
   ],
   "source": [
    "evaluate_function(pred_y,y_test,20)"
   ]
  },
  {
   "cell_type": "code",
   "execution_count": 37,
   "metadata": {},
   "outputs": [],
   "source": [
    "out_list_0 = []\n",
    "out_list_1 = []\n",
    "for t in range(0,200, 5):\n",
    "    out_list_0.append(evaluate_function(pred_y,y_test, t)[0]) \n",
    "    out_list_1.append(evaluate_function(pred_y,y_test, t)[1]) "
   ]
  },
  {
   "cell_type": "code",
   "execution_count": 38,
   "metadata": {},
   "outputs": [
    {
     "data": {
      "text/plain": [
       "[<matplotlib.lines.Line2D at 0x1b074ef0>,\n",
       " <matplotlib.lines.Line2D at 0x374f4860>]"
      ]
     },
     "execution_count": 38,
     "metadata": {},
     "output_type": "execute_result"
    },
    {
     "data": {
      "image/png": "[encoded data removed]",
      "text/plain": [
       "<Figure size 432x288 with 1 Axes>"
      ]
     },
     "metadata": {},
     "output_type": "display_data"
    }
   ],
   "source": [
    "import matplotlib.pyplot as plt\n",
    "%matplotlib inline\n",
    "plt.ylim(0,1)\n",
    "plt.plot(range(len(out_list_0)), out_list_0,out_list_1)"
   ]
  },
  {
   "cell_type": "code",
   "execution_count": 39,
   "metadata": {},
   "outputs": [
    {
     "data": {
      "text/plain": [
       "[<matplotlib.lines.Line2D at 0x3756f080>]"
      ]
     },
     "execution_count": 39,
     "metadata": {},
     "output_type": "execute_result"
    },
    {
     "data": {
      "image/png": "[encoded data removed]",
      "text/plain": [
       "<Figure size 432x288 with 1 Axes>"
      ]
     },
     "metadata": {},
     "output_type": "display_data"
    }
   ],
   "source": [
    "plt.plot(range(len(out_list_1)), out_list_1)"
   ]
  },
  {
   "cell_type": "code",
   "execution_count": 40,
   "metadata": {},
   "outputs": [
    {
     "data": {
      "text/plain": [
       "[0.5344387755102041,\n",
       " 0.5536695447409733,\n",
       " 0.5730474882260597,\n",
       " 0.5936028257456829,\n",
       " 0.6146487441130298,\n",
       " 0.6331927001569859,\n",
       " 0.6514913657770801,\n",
       " 0.6693975667189953,\n",
       " 0.6850961538461539,\n",
       " 0.7005985086342229,\n",
       " 0.7148253532182104,\n",
       " 0.7293956043956044,\n",
       " 0.7426412872841445,\n",
       " 0.7558379120879121,\n",
       " 0.7694270015698587,\n",
       " 0.7812990580847724,\n",
       " 0.7929748822605965,\n",
       " 0.8020015698587127,\n",
       " 0.8115678963893249,\n",
       " 0.8202021193092621,\n",
       " 0.8289344583987441,\n",
       " 0.8370781004709577,\n",
       " 0.8438481161695447,\n",
       " 0.8507162480376766,\n",
       " 0.8574862637362637,\n",
       " 0.8643053375196232,\n",
       " 0.8697998430141287,\n",
       " 0.8754905808477237,\n",
       " 0.8817700156985872,\n",
       " 0.8874116954474097,\n",
       " 0.8928571428571429,\n",
       " 0.8981063579277865,\n",
       " 0.9025215855572999,\n",
       " 0.9073292778649922,\n",
       " 0.9127256671899528,\n",
       " 0.9171408948194663,\n",
       " 0.9218504709576139,\n",
       " 0.9258241758241759,\n",
       " 0.9297488226059655,\n",
       " 0.9340168759811617]"
      ]
     },
     "execution_count": 40,
     "metadata": {},
     "output_type": "execute_result"
    }
   ],
   "source": [
    "out_list_1"
   ]
  }
 ],
 "metadata": {
  "kernelspec": {
   "display_name": "Python 3",
   "language": "python",
   "name": "python3"
  },
  "language_info": {
   "codemirror_mode": {
    "name": "ipython",
    "version": 3
   },
   "file_extension": ".py",
   "mimetype": "text/x-python",
   "name": "python",
   "nbconvert_exporter": "python",
   "pygments_lexer": "ipython3",
   "version": "3.6.6"
  }
 },
 "nbformat": 4,
 "nbformat_minor": 2
}
