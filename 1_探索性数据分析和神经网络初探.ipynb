{
 "cells": [
  {
   "cell_type": "markdown",
   "metadata": {},
   "source": [
    "# 探索性数据分析(EDA)"
   ]
  },
  {
   "cell_type": "markdown",
   "metadata": {},
   "source": [
    "## 查看数据基本信息"
   ]
  },
  {
   "cell_type": "code",
   "execution_count": 1,
   "metadata": {},
   "outputs": [],
   "source": [
    "import pandas as pd\n",
    "import numpy as np\n",
    "import random"
   ]
  },
  {
   "cell_type": "code",
   "execution_count": 2,
   "metadata": {},
   "outputs": [
    {
     "data": {
      "text/html": [
       "<div>\n",
       "<style scoped>\n",
       "    .dataframe tbody tr th:only-of-type {\n",
       "        vertical-align: middle;\n",
       "    }\n",
       "\n",
       "    .dataframe tbody tr th {\n",
       "        vertical-align: top;\n",
       "    }\n",
       "\n",
       "    .dataframe thead th {\n",
       "        text-align: right;\n",
       "    }\n",
       "</style>\n",
       "<table border=\"1\" class=\"dataframe\">\n",
       "  <thead>\n",
       "    <tr style=\"text-align: right;\">\n",
       "      <th></th>\n",
       "      <th>dates</th>\n",
       "      <th>OBJs</th>\n",
       "      <th>ODs_1</th>\n",
       "      <th>ODs_2</th>\n",
       "      <th>depTimes</th>\n",
       "      <th>expPerf</th>\n",
       "      <th>staticPerf</th>\n",
       "      <th>grdyPerf</th>\n",
       "      <th>godPerf</th>\n",
       "      <th>distances</th>\n",
       "      <th>...</th>\n",
       "      <th>stmutC_grdyPath_3</th>\n",
       "      <th>YesterdayGrdyPerf</th>\n",
       "      <th>YesterdayGodPerf</th>\n",
       "      <th>YesterdayStaPerf</th>\n",
       "      <th>YesterdayExpPerf</th>\n",
       "      <th>Outputs14</th>\n",
       "      <th>Outputs7</th>\n",
       "      <th>Outputs3_1</th>\n",
       "      <th>Outputs3_2</th>\n",
       "      <th>Outputs3_3</th>\n",
       "    </tr>\n",
       "  </thead>\n",
       "  <tbody>\n",
       "    <tr>\n",
       "      <th>0</th>\n",
       "      <td>4.19</td>\n",
       "      <td>1</td>\n",
       "      <td>1386</td>\n",
       "      <td>1821</td>\n",
       "      <td>16454</td>\n",
       "      <td>901.873155</td>\n",
       "      <td>943.341039</td>\n",
       "      <td>879.878944</td>\n",
       "      <td>802.674362</td>\n",
       "      <td>0.089257</td>\n",
       "      <td>...</td>\n",
       "      <td>0.475829</td>\n",
       "      <td>999.074209</td>\n",
       "      <td>955.166635</td>\n",
       "      <td>997.787702</td>\n",
       "      <td>986.738929</td>\n",
       "      <td>13</td>\n",
       "      <td>6</td>\n",
       "      <td>-1</td>\n",
       "      <td>0</td>\n",
       "      <td>-1</td>\n",
       "    </tr>\n",
       "    <tr>\n",
       "      <th>1</th>\n",
       "      <td>4.19</td>\n",
       "      <td>1</td>\n",
       "      <td>529</td>\n",
       "      <td>1199</td>\n",
       "      <td>14062</td>\n",
       "      <td>905.320230</td>\n",
       "      <td>650.077643</td>\n",
       "      <td>650.077643</td>\n",
       "      <td>650.077643</td>\n",
       "      <td>0.053294</td>\n",
       "      <td>...</td>\n",
       "      <td>0.550532</td>\n",
       "      <td>667.675168</td>\n",
       "      <td>585.119637</td>\n",
       "      <td>655.264699</td>\n",
       "      <td>585.119637</td>\n",
       "      <td>2</td>\n",
       "      <td>2</td>\n",
       "      <td>1</td>\n",
       "      <td>1</td>\n",
       "      <td>-1</td>\n",
       "    </tr>\n",
       "    <tr>\n",
       "      <th>2</th>\n",
       "      <td>4.19</td>\n",
       "      <td>1</td>\n",
       "      <td>716</td>\n",
       "      <td>990</td>\n",
       "      <td>13779</td>\n",
       "      <td>787.775655</td>\n",
       "      <td>864.166706</td>\n",
       "      <td>925.812156</td>\n",
       "      <td>767.183548</td>\n",
       "      <td>0.080272</td>\n",
       "      <td>...</td>\n",
       "      <td>0.756983</td>\n",
       "      <td>612.851744</td>\n",
       "      <td>601.668111</td>\n",
       "      <td>975.484821</td>\n",
       "      <td>700.256755</td>\n",
       "      <td>14</td>\n",
       "      <td>7</td>\n",
       "      <td>-1</td>\n",
       "      <td>-1</td>\n",
       "      <td>0</td>\n",
       "    </tr>\n",
       "    <tr>\n",
       "      <th>3</th>\n",
       "      <td>4.19</td>\n",
       "      <td>1</td>\n",
       "      <td>547</td>\n",
       "      <td>1456</td>\n",
       "      <td>14027</td>\n",
       "      <td>625.313098</td>\n",
       "      <td>683.213117</td>\n",
       "      <td>670.375942</td>\n",
       "      <td>623.874198</td>\n",
       "      <td>0.063568</td>\n",
       "      <td>...</td>\n",
       "      <td>0.512717</td>\n",
       "      <td>670.883400</td>\n",
       "      <td>641.749020</td>\n",
       "      <td>670.883400</td>\n",
       "      <td>641.749020</td>\n",
       "      <td>14</td>\n",
       "      <td>7</td>\n",
       "      <td>-1</td>\n",
       "      <td>-1</td>\n",
       "      <td>0</td>\n",
       "    </tr>\n",
       "    <tr>\n",
       "      <th>4</th>\n",
       "      <td>4.19</td>\n",
       "      <td>1</td>\n",
       "      <td>914</td>\n",
       "      <td>1073</td>\n",
       "      <td>14355</td>\n",
       "      <td>604.748398</td>\n",
       "      <td>618.476141</td>\n",
       "      <td>620.277530</td>\n",
       "      <td>595.945774</td>\n",
       "      <td>0.047176</td>\n",
       "      <td>...</td>\n",
       "      <td>0.289439</td>\n",
       "      <td>590.331899</td>\n",
       "      <td>590.331899</td>\n",
       "      <td>657.448103</td>\n",
       "      <td>611.118098</td>\n",
       "      <td>14</td>\n",
       "      <td>7</td>\n",
       "      <td>-1</td>\n",
       "      <td>-1</td>\n",
       "      <td>0</td>\n",
       "    </tr>\n",
       "  </tbody>\n",
       "</table>\n",
       "<p>5 rows × 135 columns</p>\n",
       "</div>"
      ],
      "text/plain": [
       "   dates  OBJs  ODs_1  ODs_2  depTimes    expPerf   staticPerf    grdyPerf   \\\n",
       "0   4.19     1   1386   1821     16454  901.873155   943.341039  879.878944   \n",
       "1   4.19     1    529   1199     14062  905.320230   650.077643  650.077643   \n",
       "2   4.19     1    716    990     13779  787.775655   864.166706  925.812156   \n",
       "3   4.19     1    547   1456     14027  625.313098   683.213117  670.375942   \n",
       "4   4.19     1    914   1073     14355  604.748398   618.476141  620.277530   \n",
       "\n",
       "      godPerf  distances     ...      stmutC_grdyPath_3  YesterdayGrdyPerf  \\\n",
       "0  802.674362   0.089257     ...               0.475829         999.074209   \n",
       "1  650.077643   0.053294     ...               0.550532         667.675168   \n",
       "2  767.183548   0.080272     ...               0.756983         612.851744   \n",
       "3  623.874198   0.063568     ...               0.512717         670.883400   \n",
       "4  595.945774   0.047176     ...               0.289439         590.331899   \n",
       "\n",
       "   YesterdayGodPerf  YesterdayStaPerf  YesterdayExpPerf  Outputs14  Outputs7  \\\n",
       "0        955.166635        997.787702        986.738929         13         6   \n",
       "1        585.119637        655.264699        585.119637          2         2   \n",
       "2        601.668111        975.484821        700.256755         14         7   \n",
       "3        641.749020        670.883400        641.749020         14         7   \n",
       "4        590.331899        657.448103        611.118098         14         7   \n",
       "\n",
       "   Outputs3_1  Outputs3_2  Outputs3_3  \n",
       "0          -1           0          -1  \n",
       "1           1           1          -1  \n",
       "2          -1          -1           0  \n",
       "3          -1          -1           0  \n",
       "4          -1          -1           0  \n",
       "\n",
       "[5 rows x 135 columns]"
      ]
     },
     "execution_count": 2,
     "metadata": {},
     "output_type": "execute_result"
    }
   ],
   "source": [
    "data_fram = pd.read_csv('road_data_small.csv')\n",
    "# 查看数据前 5 行\n",
    "data_fram.head()"
   ]
  },
  {
   "cell_type": "code",
   "execution_count": 3,
   "metadata": {},
   "outputs": [
    {
     "data": {
      "text/plain": [
       "14    235\n",
       "13    211\n",
       "12     94\n",
       "1      88\n",
       "7      84\n",
       "6      68\n",
       "4      40\n",
       "2      33\n",
       "8      30\n",
       "10     29\n",
       "11     27\n",
       "9      23\n",
       "5      22\n",
       "3      16\n",
       "Name: Outputs14, dtype: int64"
      ]
     },
     "execution_count": 3,
     "metadata": {},
     "output_type": "execute_result"
    }
   ],
   "source": [
    "# 查看每个类别数量\n",
    "data_fram['Outputs14'].value_counts()"
   ]
  },
  {
   "cell_type": "code",
   "execution_count": 4,
   "metadata": {},
   "outputs": [
    {
     "data": {
      "text/plain": [
       "array([0.088, 0.033, 0.016, 0.04 , 0.022, 0.068, 0.084, 0.03 , 0.023,\n",
       "       0.029, 0.027, 0.094, 0.211, 0.235])"
      ]
     },
     "execution_count": 4,
     "metadata": {},
     "output_type": "execute_result"
    }
   ],
   "source": [
    "# 每个类别的占比\n",
    "data_Outputs14_list = data_fram['Outputs14'].tolist()\n",
    "\n",
    "occupation_ratio_list = []\n",
    "for i in range(14):\n",
    "    occupation_ratio_list.append(data_Outputs14_list.count(i+1))\n",
    "\n",
    "jk = sum(occupation_ratio_list)\n",
    "\n",
    "occupation_ratio_list = [a / jk for a in occupation_ratio_list]\n",
    "occupation_ratio = np.array(occupation_ratio_list)\n",
    "occupation_ratio"
   ]
  },
  {
   "cell_type": "markdown",
   "metadata": {},
   "source": [
    "## 删除无用信息"
   ]
  },
  {
   "cell_type": "code",
   "execution_count": 5,
   "metadata": {},
   "outputs": [],
   "source": [
    "# 删除多余分类标准\n",
    "data_fram.drop(['Outputs7','Outputs3_1','Outputs3_2','Outputs3_3'],axis=1,inplace=True)"
   ]
  },
  {
   "cell_type": "markdown",
   "metadata": {},
   "source": [
    "## 对数据进行分层采样"
   ]
  },
  {
   "cell_type": "code",
   "execution_count": 6,
   "metadata": {},
   "outputs": [],
   "source": [
    "from sklearn.model_selection import StratifiedShuffleSplit\n",
    "\n",
    "split = StratifiedShuffleSplit(n_splits=1, test_size=0.2, random_state=2018)\n",
    "\n",
    "for train_index, test_index in split.split(data_fram, data_fram['Outputs14']):\n",
    "    train_data = data_fram.loc[train_index]\n",
    "    test_data = data_fram.loc[test_index]"
   ]
  },
  {
   "cell_type": "code",
   "execution_count": 7,
   "metadata": {},
   "outputs": [],
   "source": [
    "# 转换数据类型\n",
    "train_data_numpy_ndarray = train_data.values\n",
    "test_data_numpy_ndarray = test_data.values"
   ]
  },
  {
   "cell_type": "code",
   "execution_count": 16,
   "metadata": {},
   "outputs": [],
   "source": [
    "X_train = train_data_numpy_ndarray[:,9:130].astype(float)\n",
    "Y_train = train_data_numpy_ndarray[:,130].astype(int)\n",
    "X_test = test_data_numpy_ndarray[:,9:130].astype(float)\n",
    "Y_test = test_data_numpy_ndarray[:,130].astype(int)\n",
    "\n",
    "Y_train = Y_train - 1\n",
    "Y_test = Y_test - 1"
   ]
  },
  {
   "cell_type": "code",
   "execution_count": 17,
   "metadata": {},
   "outputs": [],
   "source": [
    "from keras.utils import np_utils\n",
    "\n",
    "Y_onehot_train = np_utils.to_categorical(Y_train)\n",
    "Y_onehot_test = np_utils.to_categorical(Y_test)"
   ]
  },
  {
   "cell_type": "code",
   "execution_count": 18,
   "metadata": {},
   "outputs": [],
   "source": [
    "from sklearn.preprocessing import StandardScaler\n",
    "standar_s = StandardScaler()\n",
    "# 特征标准化\n",
    "X_train_std = standar_s.fit_transform(X_train)\n",
    "X_test_std = standar_s.fit_transform(X_test)"
   ]
  },
  {
   "cell_type": "markdown",
   "metadata": {},
   "source": [
    "# 实验\n",
    "\n",
    "-----"
   ]
  },
  {
   "cell_type": "code",
   "execution_count": 19,
   "metadata": {},
   "outputs": [],
   "source": [
    "from keras.models import Sequential\n",
    "from keras.layers import Activation\n",
    "from keras.layers import Dense, Dropout\n",
    "from keras.layers.normalization import BatchNormalization\n",
    "from keras.wrappers.scikit_learn import KerasClassifier\n",
    "from keras.callbacks import TensorBoard"
   ]
  },
  {
   "cell_type": "code",
   "execution_count": 20,
   "metadata": {},
   "outputs": [],
   "source": [
    "# 使用 tensorboard 辅助训练的函数\n",
    "def train_model(model, X, Y, batch_size, epochs=100,\n",
    "                shuffle=False, version=0, run_number=0):\n",
    "    \"\"\"\n",
    "    Shorthand function for training a new model.\n",
    "    This function names each run of the model\n",
    "    using the TensorBoard naming conventions.\n",
    "    \n",
    "    Parameters\n",
    "    ----------\n",
    "    model: Keras model instance\n",
    "        Compiled Keras model.\n",
    "    X, Y: np.array\n",
    "        Series of observations to be used in\n",
    "        the training process.\n",
    "    version: int\n",
    "        Version of the model to run.\n",
    "    run_number: int\n",
    "        The number of the run. Used in case\n",
    "        the same model version is run again.\n",
    "    \"\"\"\n",
    "    hash = random.getrandbits(128)\n",
    "    hex_code = '%032x' % hash\n",
    "    model_name = 'road_classification_v{version}_run_{run_number}_{hex_code}'.format(\n",
    "        version=version, run_number=run_number, hex_code=hex_code[:6])\n",
    "\n",
    "    tensorboard = TensorBoard(log_dir='./logs/{}'.format(model_name))\n",
    "    \n",
    "    model_history = model.fit(\n",
    "        x=X, y=Y,\n",
    "        batch_size=batch_size, epochs=epochs,\n",
    "        verbose=0, callbacks=[tensorboard],\n",
    "        shuffle=shuffle)\n",
    "    \n",
    "    return model_history"
   ]
  },
  {
   "cell_type": "markdown",
   "metadata": {},
   "source": [
    "# 实验一"
   ]
  },
  {
   "cell_type": "code",
   "execution_count": 21,
   "metadata": {},
   "outputs": [],
   "source": [
    "def creat_model_1():\n",
    "    model = Sequential()\n",
    "    model.add(Dense(units=1024,input_dim=121))\n",
    "    model.add(BatchNormalization())\n",
    "    model.add(Activation('tanh'))\n",
    "    model.add(Dropout(0.5))\n",
    "    model.add(Dense(units=512))\n",
    "    model.add(BatchNormalization())\n",
    "    model.add(Activation('tanh'))\n",
    "    model.add(Dropout(0.5))\n",
    "    model.add(Dense(units=64))\n",
    "    model.add(BatchNormalization())\n",
    "    model.add(Activation('tanh'))\n",
    "    model.add(Dense(units=14))\n",
    "    model.add(Activation('sigmoid',name='Dense_L'))\n",
    "    model.compile(loss='binary_crossentropy',\n",
    "                  optimizer='adam',\n",
    "                  metrics=['accuracy'])\n",
    "    return model"
   ]
  },
  {
   "cell_type": "code",
   "execution_count": 22,
   "metadata": {},
   "outputs": [],
   "source": [
    "a_model_1 = creat_model_1()"
   ]
  },
  {
   "cell_type": "code",
   "execution_count": 23,
   "metadata": {},
   "outputs": [
    {
     "data": {
      "text/plain": [
       "<keras.callbacks.History at 0xa28fd68>"
      ]
     },
     "execution_count": 23,
     "metadata": {},
     "output_type": "execute_result"
    }
   ],
   "source": [
    "train_model(a_model_1, X_train_std, Y_onehot_train,\n",
    "            batch_size=64, epochs=20,shuffle=True,\n",
    "            version=0, run_number=1\n",
    "           )"
   ]
  },
  {
   "cell_type": "raw",
   "metadata": {},
   "source": [
    "# 增加验证集模式，会减慢训练的速度\n",
    "#a_model_1.fit(X_train_std, Y_onehot_train, epochs=4, batch_size=256,verbose=2,shuffle=True)"
   ]
  },
  {
   "cell_type": "code",
   "execution_count": 24,
   "metadata": {},
   "outputs": [
    {
     "name": "stdout",
     "output_type": "stream",
     "text": [
      "200/200 [==============================] - 0s 555us/step\n"
     ]
    },
    {
     "data": {
      "text/plain": [
       "[0.21953729569911956, 0.9278571224212646]"
      ]
     },
     "execution_count": 24,
     "metadata": {},
     "output_type": "execute_result"
    }
   ],
   "source": [
    "a_model_1.evaluate(X_test_std,Y_onehot_test)"
   ]
  },
  {
   "cell_type": "markdown",
   "metadata": {},
   "source": [
    "## 取输出层的值的方法"
   ]
  },
  {
   "cell_type": "code",
   "execution_count": 25,
   "metadata": {},
   "outputs": [
    {
     "data": {
      "text/plain": [
       "(200, 14)"
      ]
     },
     "execution_count": 25,
     "metadata": {},
     "output_type": "execute_result"
    }
   ],
   "source": [
    "from keras.models import Model\n",
    "\n",
    "L_output_model = Model(inputs=a_model_1.input,outputs=a_model_1.get_layer('Dense_L').output)\n",
    "\n",
    "L_output_model_output = L_output_model.predict(X_test_std[:20000])\n",
    "\n",
    "L_output_model_output.shape"
   ]
  },
  {
   "cell_type": "markdown",
   "metadata": {},
   "source": [
    "**自定义准确率函数**"
   ]
  },
  {
   "cell_type": "code",
   "execution_count": 26,
   "metadata": {},
   "outputs": [
    {
     "name": "stdout",
     "output_type": "stream",
     "text": [
      "0.00375\n"
     ]
    }
   ],
   "source": [
    "# 查看预测的最大概率与 Y 的关系\n",
    "a_sum = 0\n",
    "for y_hat,y in zip(np.argmax(L_output_model_output,axis=1),Y_test[:20000]):\n",
    "    if y_hat==y:\n",
    "        a_sum+=1\n",
    "print(a_sum/20000)"
   ]
  },
  {
   "cell_type": "code",
   "execution_count": 27,
   "metadata": {},
   "outputs": [
    {
     "name": "stdout",
     "output_type": "stream",
     "text": [
      "0.00845\n"
     ]
    }
   ],
   "source": [
    "# 查看 top-k 与 Y 的关系\n",
    "b_sum = 0\n",
    "for y_hat,y in zip(L_output_model_output,Y_test[:20000]):\n",
    "    if y in y_hat.argsort()[-7:][::-1]:\n",
    "        b_sum+=1\n",
    "print(b_sum/20000)"
   ]
  },
  {
   "cell_type": "code",
   "execution_count": 28,
   "metadata": {},
   "outputs": [
    {
     "data": {
      "text/plain": [
       "(200, 14)"
      ]
     },
     "execution_count": 28,
     "metadata": {},
     "output_type": "execute_result"
    }
   ],
   "source": [
    "Y_onehot_test.shape"
   ]
  },
  {
   "cell_type": "markdown",
   "metadata": {},
   "source": [
    "## 加入先验信息（各个类别的比例）"
   ]
  },
  {
   "cell_type": "code",
   "execution_count": 29,
   "metadata": {},
   "outputs": [
    {
     "name": "stdout",
     "output_type": "stream",
     "text": [
      "0.00285\n"
     ]
    }
   ],
   "source": [
    "# 查看 top-k 与 Y 的关系\n",
    "c_sum = 0\n",
    "for y_hat,y in zip(L_output_model_output,Y_test[:20000]):\n",
    "    Res = [0 for i in range(14)]\n",
    "    current_occupation_ratio = occupation_ratio.copy()\n",
    "    y_hat_top_k = y_hat.argsort()[-2:][::-1]\n",
    "    for top_i in y_hat_top_k:\n",
    "        Res[top_i] = y_hat[top_i] \n",
    "    for index,i in enumerate(Res):\n",
    "        if i==0:\n",
    "            current_occupation_ratio[index]=0\n",
    "    current_occupation_ratio = current_occupation_ratio / np.sum(current_occupation_ratio)\n",
    "    Res_p = np.array(Res) * current_occupation_ratio\n",
    "    # 归一化\n",
    "    Res_p = Res / sum(Res)\n",
    "    if np.random.choice(14, 1, p=Res_p)==y:\n",
    "        c_sum+=1\n",
    "print(c_sum/20000)"
   ]
  },
  {
   "cell_type": "raw",
   "metadata": {},
   "source": [
    "结果显示加入先验信息反而降低了模型准确率"
   ]
  },
  {
   "cell_type": "markdown",
   "metadata": {},
   "source": [
    "# **混淆矩阵**"
   ]
  },
  {
   "cell_type": "code",
   "execution_count": 30,
   "metadata": {},
   "outputs": [],
   "source": [
    "from sklearn.metrics import confusion_matrix"
   ]
  },
  {
   "cell_type": "code",
   "execution_count": 31,
   "metadata": {},
   "outputs": [],
   "source": [
    "import matplotlib.pyplot as plt"
   ]
  },
  {
   "cell_type": "code",
   "execution_count": 32,
   "metadata": {},
   "outputs": [],
   "source": [
    "conf_mx = confusion_matrix(Y_test[:20000],np.argmax(L_output_model_output,axis=1))"
   ]
  },
  {
   "cell_type": "code",
   "execution_count": 33,
   "metadata": {},
   "outputs": [],
   "source": [
    "plt.rcParams['figure.figsize'] = (9,9) # 显示大小"
   ]
  },
  {
   "cell_type": "code",
   "execution_count": 34,
   "metadata": {},
   "outputs": [
    {
     "data": {
      "image/png": "[encoded data removed]",
      "text/plain": [
       "<Figure size 648x648 with 1 Axes>"
      ]
     },
     "metadata": {},
     "output_type": "display_data"
    }
   ],
   "source": [
    "plt.matshow(conf_mx, cmap=plt.cm.gray)\n",
    "plt.show()"
   ]
  },
  {
   "cell_type": "markdown",
   "metadata": {},
   "source": [
    "中间对角线表示正确分类的比例，如上图只有第"
   ]
  },
  {
   "cell_type": "code",
   "execution_count": 35,
   "metadata": {},
   "outputs": [
    {
     "data": {
      "text/plain": [
       "14    235\n",
       "13    211\n",
       "12     94\n",
       "1      88\n",
       "7      84\n",
       "6      68\n",
       "4      40\n",
       "2      33\n",
       "8      30\n",
       "10     29\n",
       "11     27\n",
       "9      23\n",
       "5      22\n",
       "3      16\n",
       "Name: Outputs14, dtype: int64"
      ]
     },
     "execution_count": 35,
     "metadata": {},
     "output_type": "execute_result"
    }
   ],
   "source": [
    "# 查看每个类别数量\n",
    "data_fram['Outputs14'].value_counts()"
   ]
  },
  {
   "cell_type": "markdown",
   "metadata": {},
   "source": [
    "# 实验二"
   ]
  },
  {
   "cell_type": "markdown",
   "metadata": {},
   "source": [
    "## 创建模型"
   ]
  },
  {
   "cell_type": "code",
   "execution_count": 39,
   "metadata": {},
   "outputs": [],
   "source": [
    "def create_model_2():\n",
    "    model = Sequential()\n",
    "    model.add(Dense(units=1024, kernel_initializer='he_normal',input_dim=121))\n",
    "    model.add(BatchNormalization())\n",
    "    model.add(Activation('selu'))\n",
    "    model.add(Dropout(0.5))\n",
    "    model.add(Dense(units=512, kernel_initializer='he_normal'))\n",
    "    model.add(BatchNormalization())\n",
    "    model.add(Activation('selu'))\n",
    "    model.add(Dropout(0.5))\n",
    "    model.add(Dense(units=256, kernel_initializer='he_normal'))\n",
    "    model.add(BatchNormalization())\n",
    "    model.add(Activation('selu'))\n",
    "    model.add(Dropout(0.5))\n",
    "    model.add(Dense(units=128, kernel_initializer='he_normal'))\n",
    "    model.add(BatchNormalization())\n",
    "    model.add(Activation('selu'))\n",
    "    model.add(Dropout(0.3))\n",
    "    model.add(Dense(units=64, kernel_initializer='he_normal'))\n",
    "    model.add(BatchNormalization())\n",
    "    model.add(Activation('selu'))\n",
    "    model.add(Dropout(0.2))\n",
    "    model.add(Dense(units=32, kernel_initializer='he_normal'))\n",
    "    model.add(Activation('selu'))\n",
    "    model.add(Dense(units=14, activation='sigmoid'))\n",
    "    model.compile(loss='binary_crossentropy',\n",
    "                  optimizer='adam',\n",
    "                  metrics=['accuracy'])\n",
    "    return model"
   ]
  },
  {
   "cell_type": "code",
   "execution_count": 40,
   "metadata": {},
   "outputs": [],
   "source": [
    "a_model_2 = create_model_2()"
   ]
  },
  {
   "cell_type": "markdown",
   "metadata": {},
   "source": [
    "## 训练模型"
   ]
  },
  {
   "cell_type": "code",
   "execution_count": 41,
   "metadata": {},
   "outputs": [
    {
     "name": "stdout",
     "output_type": "stream",
     "text": [
      "Train on 640 samples, validate on 160 samples\n",
      "Epoch 1/10\n",
      "640/640 [==============================] - 2s 3ms/step - loss: 0.9550 - acc: 0.4932 - val_loss: 0.7479 - val_acc: 0.5304\n",
      "Epoch 2/10\n",
      "640/640 [==============================] - 0s 223us/step - loss: 0.8876 - acc: 0.5220 - val_loss: 0.7300 - val_acc: 0.5402\n",
      "Epoch 3/10\n",
      "640/640 [==============================] - 0s 211us/step - loss: 0.8445 - acc: 0.5315 - val_loss: 0.7016 - val_acc: 0.5705\n",
      "Epoch 4/10\n",
      "640/640 [==============================] - 0s 228us/step - loss: 0.8063 - acc: 0.5400 - val_loss: 0.6644 - val_acc: 0.6027\n",
      "Epoch 5/10\n",
      "640/640 [==============================] - 0s 227us/step - loss: 0.7643 - acc: 0.5544 - val_loss: 0.6329 - val_acc: 0.6429\n",
      "Epoch 6/10\n",
      "640/640 [==============================] - 0s 222us/step - loss: 0.7402 - acc: 0.5680 - val_loss: 0.6012 - val_acc: 0.6804\n",
      "Epoch 7/10\n",
      "640/640 [==============================] - 0s 227us/step - loss: 0.7038 - acc: 0.5959 - val_loss: 0.5756 - val_acc: 0.7027\n",
      "Epoch 8/10\n",
      "640/640 [==============================] - 0s 227us/step - loss: 0.6872 - acc: 0.6041 - val_loss: 0.5528 - val_acc: 0.7161\n",
      "Epoch 9/10\n",
      "640/640 [==============================] - 0s 228us/step - loss: 0.6538 - acc: 0.6271 - val_loss: 0.5325 - val_acc: 0.7290\n",
      "Epoch 10/10\n",
      "640/640 [==============================] - 0s 217us/step - loss: 0.6291 - acc: 0.6513 - val_loss: 0.5118 - val_acc: 0.7446\n"
     ]
    },
    {
     "data": {
      "text/plain": [
       "<keras.callbacks.History at 0x1277c320>"
      ]
     },
     "execution_count": 41,
     "metadata": {},
     "output_type": "execute_result"
    }
   ],
   "source": [
    "# 增加验证集模式，会减慢训练的速度\n",
    "a_model_2.fit(X_train_std, Y_onehot_train, epochs=10, batch_size=256,verbose=1,validation_split=0.2,shuffle=True)"
   ]
  },
  {
   "cell_type": "markdown",
   "metadata": {},
   "source": [
    "## 评估模型"
   ]
  },
  {
   "cell_type": "code",
   "execution_count": 42,
   "metadata": {},
   "outputs": [
    {
     "name": "stdout",
     "output_type": "stream",
     "text": [
      "200/200 [==============================] - 0s 120us/step\n"
     ]
    },
    {
     "data": {
      "text/plain": [
       "[0.5185107135772705, 0.7453571462631225]"
      ]
     },
     "execution_count": 42,
     "metadata": {},
     "output_type": "execute_result"
    }
   ],
   "source": [
    "a_model_2.evaluate(X_test_std,Y_onehot_test)"
   ]
  },
  {
   "cell_type": "markdown",
   "metadata": {},
   "source": [
    "# 实验三"
   ]
  },
  {
   "cell_type": "code",
   "execution_count": 44,
   "metadata": {},
   "outputs": [],
   "source": [
    "from keras import regularizers\n",
    "def creat_model_3():\n",
    "    model = Sequential()\n",
    "    model.add(Dense(units=1024,input_dim=121,kernel_regularizer=regularizers.l2(0.01)))\n",
    "    model.add(BatchNormalization())\n",
    "    model.add(Activation('tanh'))\n",
    "    model.add(Dropout(0.5))\n",
    "    model.add(Dense(units=512,kernel_regularizer=regularizers.l2(0.01)))\n",
    "    model.add(BatchNormalization())\n",
    "    model.add(Activation('tanh'))\n",
    "    model.add(Dropout(0.5))\n",
    "    model.add(Dense(units=64,kernel_regularizer=regularizers.l2(0.01)))\n",
    "    model.add(BatchNormalization())\n",
    "    model.add(Activation('tanh'))\n",
    "    model.add(Dense(units=14,kernel_regularizer=regularizers.l2(0.01)))\n",
    "    model.add(Activation('sigmoid'))\n",
    "    model.compile(loss='binary_crossentropy',\n",
    "                  optimizer='adam',\n",
    "                  metrics=['accuracy'])\n",
    "    return model"
   ]
  },
  {
   "cell_type": "code",
   "execution_count": 45,
   "metadata": {},
   "outputs": [
    {
     "name": "stdout",
     "output_type": "stream",
     "text": [
      "Epoch 1/15\n",
      "800/800 [==============================] - 1s 2ms/step - loss: 10.6819 - acc: 0.5030\n",
      "Epoch 2/15\n",
      "800/800 [==============================] - 0s 198us/step - loss: 9.1868 - acc: 0.5211\n",
      "Epoch 3/15\n",
      "800/800 [==============================] - 0s 188us/step - loss: 7.8823 - acc: 0.5407\n",
      "Epoch 4/15\n",
      "800/800 [==============================] - 0s 186us/step - loss: 6.7440 - acc: 0.5521\n",
      "Epoch 5/15\n",
      "800/800 [==============================] - 0s 185us/step - loss: 5.7583 - acc: 0.5605\n",
      "Epoch 6/15\n",
      "800/800 [==============================] - 0s 190us/step - loss: 4.9028 - acc: 0.5751\n",
      "Epoch 7/15\n",
      "800/800 [==============================] - 0s 185us/step - loss: 4.1781 - acc: 0.5844\n",
      "Epoch 8/15\n",
      "800/800 [==============================] - 0s 183us/step - loss: 3.5602 - acc: 0.6129\n",
      "Epoch 9/15\n",
      "800/800 [==============================] - 0s 190us/step - loss: 3.0413 - acc: 0.6255\n",
      "Epoch 10/15\n",
      "800/800 [==============================] - 0s 195us/step - loss: 2.6116 - acc: 0.6434\n",
      "Epoch 11/15\n",
      "800/800 [==============================] - 0s 179us/step - loss: 2.2539 - acc: 0.6675\n",
      "Epoch 12/15\n",
      "800/800 [==============================] - 0s 178us/step - loss: 1.9591 - acc: 0.6896\n",
      "Epoch 13/15\n",
      "800/800 [==============================] - 0s 180us/step - loss: 1.7183 - acc: 0.7064\n",
      "Epoch 14/15\n",
      "800/800 [==============================] - 0s 193us/step - loss: 1.5223 - acc: 0.7243\n",
      "Epoch 15/15\n",
      "800/800 [==============================] - 0s 188us/step - loss: 1.3637 - acc: 0.7538\n"
     ]
    },
    {
     "data": {
      "text/plain": [
       "<keras.callbacks.History at 0x190bff28>"
      ]
     },
     "execution_count": 45,
     "metadata": {},
     "output_type": "execute_result"
    }
   ],
   "source": [
    "a_model_3 = creat_model_3()\n",
    "\n",
    "a_model_3.fit(X_train_std, Y_onehot_train, epochs=15, batch_size=256,verbose=1,shuffle=True)"
   ]
  },
  {
   "cell_type": "code",
   "execution_count": 46,
   "metadata": {},
   "outputs": [
    {
     "name": "stdout",
     "output_type": "stream",
     "text": [
      "200/200 [==============================] - 0s 1ms/step\n"
     ]
    },
    {
     "data": {
      "text/plain": [
       "[1.2903024578094482, 0.8549999928474427]"
      ]
     },
     "execution_count": 46,
     "metadata": {},
     "output_type": "execute_result"
    }
   ],
   "source": [
    "a_model_3.evaluate(X_test_std,Y_onehot_test)"
   ]
  },
  {
   "cell_type": "markdown",
   "metadata": {},
   "source": [
    "# 实验四"
   ]
  },
  {
   "cell_type": "code",
   "execution_count": 47,
   "metadata": {},
   "outputs": [],
   "source": [
    "from keras import regularizers\n",
    "def creat_model_4():\n",
    "    model = Sequential()\n",
    "    model.add(Dense(units=1024,input_dim=121,kernel_regularizer=regularizers.l1(0.05)))\n",
    "    model.add(BatchNormalization())\n",
    "    model.add(Activation('tanh'))\n",
    "    model.add(Dropout(0.5))\n",
    "    model.add(Dense(units=512,kernel_regularizer=regularizers.l1(0.05)))\n",
    "    model.add(BatchNormalization())\n",
    "    model.add(Activation('tanh'))\n",
    "    model.add(Dropout(0.5))\n",
    "    model.add(Dense(units=64,kernel_regularizer=regularizers.l2(0.01)))\n",
    "    model.add(BatchNormalization())\n",
    "    model.add(Activation('tanh'))\n",
    "    model.add(Dense(units=14,kernel_regularizer=regularizers.l2(0.01)))\n",
    "    model.add(Activation('sigmoid'))\n",
    "    model.compile(loss='binary_crossentropy',\n",
    "                  optimizer='adam',\n",
    "                  metrics=['accuracy'])\n",
    "    return model"
   ]
  },
  {
   "cell_type": "code",
   "execution_count": 48,
   "metadata": {},
   "outputs": [
    {
     "name": "stdout",
     "output_type": "stream",
     "text": [
      "Epoch 1/15\n",
      "800/800 [==============================] - 1s 2ms/step - loss: 1012.5248 - acc: 0.5029\n",
      "Epoch 2/15\n",
      "800/800 [==============================] - 0s 179us/step - loss: 890.3420 - acc: 0.5126\n",
      "Epoch 3/15\n",
      "800/800 [==============================] - 0s 184us/step - loss: 777.0180 - acc: 0.5164\n",
      "Epoch 4/15\n",
      "800/800 [==============================] - 0s 174us/step - loss: 672.1536 - acc: 0.5241\n",
      "Epoch 5/15\n",
      "800/800 [==============================] - 0s 191us/step - loss: 575.3077 - acc: 0.5303\n",
      "Epoch 6/15\n",
      "800/800 [==============================] - 0s 195us/step - loss: 486.4236 - acc: 0.5375\n",
      "Epoch 7/15\n",
      "800/800 [==============================] - 0s 203us/step - loss: 405.4184 - acc: 0.5440\n",
      "Epoch 8/15\n",
      "800/800 [==============================] - 0s 209us/step - loss: 332.1916 - acc: 0.5466\n",
      "Epoch 9/15\n",
      "800/800 [==============================] - 0s 193us/step - loss: 266.7009 - acc: 0.5655\n",
      "Epoch 10/15\n",
      "800/800 [==============================] - 0s 185us/step - loss: 208.9146 - acc: 0.5692\n",
      "Epoch 11/15\n",
      "800/800 [==============================] - 0s 188us/step - loss: 159.3250 - acc: 0.5792\n",
      "Epoch 12/15\n",
      "800/800 [==============================] - 0s 189us/step - loss: 117.5815 - acc: 0.5879\n",
      "Epoch 13/15\n",
      "800/800 [==============================] - 0s 186us/step - loss: 83.5806 - acc: 0.5923\n",
      "Epoch 14/15\n",
      "800/800 [==============================] - 0s 186us/step - loss: 57.9501 - acc: 0.5962\n",
      "Epoch 15/15\n",
      "800/800 [==============================] - 0s 226us/step - loss: 40.1358 - acc: 0.6015\n"
     ]
    },
    {
     "data": {
      "text/plain": [
       "<keras.callbacks.History at 0x18d693c8>"
      ]
     },
     "execution_count": 48,
     "metadata": {},
     "output_type": "execute_result"
    }
   ],
   "source": [
    "a_model_4 = creat_model_4()\n",
    "\n",
    "a_model_4.fit(X_train_std, Y_onehot_train, epochs=15, batch_size=256,verbose=1,shuffle=True)"
   ]
  },
  {
   "cell_type": "code",
   "execution_count": 49,
   "metadata": {},
   "outputs": [
    {
     "name": "stdout",
     "output_type": "stream",
     "text": [
      "200/200 [==============================] - 0s 2ms/step\n"
     ]
    },
    {
     "data": {
      "text/plain": [
       "[32.14825424194336, 0.9289285445213318]"
      ]
     },
     "execution_count": 49,
     "metadata": {},
     "output_type": "execute_result"
    }
   ],
   "source": [
    "a_model_4.evaluate(X_test_std,Y_onehot_test)"
   ]
  },
  {
   "cell_type": "markdown",
   "metadata": {},
   "source": [
    "# 采用网格搜索方法寻找最优超参数"
   ]
  },
  {
   "cell_type": "code",
   "execution_count": 50,
   "metadata": {},
   "outputs": [],
   "source": [
    "from keras.wrappers.scikit_learn import KerasClassifier"
   ]
  },
  {
   "cell_type": "code",
   "execution_count": 51,
   "metadata": {},
   "outputs": [],
   "source": [
    "from sklearn.model_selection import GridSearchCV"
   ]
  },
  {
   "cell_type": "markdown",
   "metadata": {},
   "source": [
    "## 网格搜索示例"
   ]
  },
  {
   "cell_type": "code",
   "execution_count": 52,
   "metadata": {},
   "outputs": [],
   "source": [
    "def creat_dynamic_model():\n",
    "    model = Sequential()\n",
    "    model.add(Dense(units=1024,input_dim=121))\n",
    "    model.add(BatchNormalization())\n",
    "    model.add(Activation('tanh'))\n",
    "    model.add(Dropout(0.5))\n",
    "    model.add(Dense(units=512))\n",
    "    model.add(BatchNormalization())\n",
    "    model.add(Activation('tanh'))\n",
    "    model.add(Dropout(0.5))\n",
    "    model.add(Dense(units=64))\n",
    "    model.add(BatchNormalization())\n",
    "    model.add(Activation('tanh'))\n",
    "    model.add(Dense(units=14))\n",
    "    model.add(Activation('sigmoid'))\n",
    "    model.compile(loss='binary_crossentropy',\n",
    "                  optimizer='adam',\n",
    "                  metrics=['accuracy'])\n",
    "    return model"
   ]
  },
  {
   "cell_type": "code",
   "execution_count": 53,
   "metadata": {},
   "outputs": [],
   "source": [
    "dynamic_model = KerasClassifier(build_fn=creat_dynamic_model, verbose=0)"
   ]
  },
  {
   "cell_type": "code",
   "execution_count": 54,
   "metadata": {},
   "outputs": [],
   "source": [
    "param_grid = {}"
   ]
  },
  {
   "cell_type": "code",
   "execution_count": 55,
   "metadata": {},
   "outputs": [],
   "source": [
    "param_grid['epochs'] = [10,]\n",
    "param_grid['batch_size'] = [256,]"
   ]
  },
  {
   "cell_type": "code",
   "execution_count": 56,
   "metadata": {},
   "outputs": [],
   "source": [
    "grid = GridSearchCV(estimator=dynamic_model, param_grid=param_grid)"
   ]
  },
  {
   "cell_type": "code",
   "execution_count": 57,
   "metadata": {},
   "outputs": [],
   "source": [
    "grid_result = grid.fit(X_train_std, Y_onehot_train)"
   ]
  },
  {
   "cell_type": "code",
   "execution_count": 58,
   "metadata": {},
   "outputs": [
    {
     "name": "stdout",
     "output_type": "stream",
     "text": [
      "Best: 0.6513392896950245 using {'batch_size': 256, 'epochs': 10}\n"
     ]
    }
   ],
   "source": [
    "print('Best: {} using {}'.format(grid_result.best_score_, grid_result.best_params_))"
   ]
  },
  {
   "cell_type": "code",
   "execution_count": 59,
   "metadata": {},
   "outputs": [
    {
     "name": "stdout",
     "output_type": "stream",
     "text": [
      "0.651339 (0.024750) with: {'batch_size': 256, 'epochs': 10}\n"
     ]
    }
   ],
   "source": [
    "means = grid_result.cv_results_['mean_test_score']\n",
    "stds = grid_result.cv_results_['std_test_score']\n",
    "params = grid_result.cv_results_['params']\n",
    "\n",
    "for mean, std, param in zip(means, stds, params):\n",
    "    print(\"%f (%f) with: %r\" % (mean, std, param))"
   ]
  },
  {
   "cell_type": "markdown",
   "metadata": {},
   "source": [
    "# 搜索神经元个数"
   ]
  },
  {
   "cell_type": "code",
   "execution_count": 60,
   "metadata": {},
   "outputs": [],
   "source": [
    "def creat_dynamic_model_neurons_number(num_neurons=128):\n",
    "    model = Sequential()\n",
    "    model.add(Dense(units=num_neurons,input_dim=121))\n",
    "    model.add(BatchNormalization())\n",
    "    model.add(Activation('tanh'))\n",
    "    model.add(Dropout(0.5))\n",
    "    model.add(Dense(units=num_neurons))\n",
    "    model.add(BatchNormalization())\n",
    "    model.add(Activation('tanh'))\n",
    "    model.add(Dropout(0.5))\n",
    "    model.add(Dense(units=256))\n",
    "    model.add(BatchNormalization())\n",
    "    model.add(Activation('tanh'))\n",
    "    model.add(Dense(units=128))\n",
    "    model.add(BatchNormalization())\n",
    "    model.add(Activation('tanh'))\n",
    "    model.add(Dense(units=14))\n",
    "    model.add(Activation('sigmoid'))\n",
    "    model.compile(loss='binary_crossentropy',\n",
    "                  optimizer='adam',\n",
    "                  metrics=['accuracy'])\n",
    "    return model"
   ]
  },
  {
   "cell_type": "code",
   "execution_count": 61,
   "metadata": {},
   "outputs": [],
   "source": [
    "dynamic_model_neurons_number = KerasClassifier(build_fn=creat_dynamic_model_neurons_number, verbose=0)"
   ]
  },
  {
   "cell_type": "code",
   "execution_count": 62,
   "metadata": {},
   "outputs": [],
   "source": [
    "param_grid_neurons_number = {}"
   ]
  },
  {
   "cell_type": "code",
   "execution_count": 63,
   "metadata": {},
   "outputs": [],
   "source": [
    "#param_grid['epochs'] = [10,]\n",
    "#param_grid['batch_size'] = [256,]\n",
    "param_grid_neurons_number['num_neurons'] = [512, 1024, 2048, 4096]"
   ]
  },
  {
   "cell_type": "code",
   "execution_count": 64,
   "metadata": {},
   "outputs": [],
   "source": [
    "grid_neurons_number = GridSearchCV(estimator=dynamic_model_neurons_number, param_grid=param_grid_neurons_number)"
   ]
  },
  {
   "cell_type": "code",
   "execution_count": 65,
   "metadata": {},
   "outputs": [],
   "source": [
    "grid_result_neurons_number = grid_neurons_number.fit(X_train_std, Y_onehot_train)"
   ]
  },
  {
   "cell_type": "code",
   "execution_count": 66,
   "metadata": {},
   "outputs": [
    {
     "name": "stdout",
     "output_type": "stream",
     "text": [
      "Best: 0.6114285832643509 using {'num_neurons': 4096}\n"
     ]
    }
   ],
   "source": [
    "print('Best: {} using {}'.format(grid_neurons_number.best_score_, grid_neurons_number.best_params_))"
   ]
  },
  {
   "cell_type": "code",
   "execution_count": 67,
   "metadata": {},
   "outputs": [],
   "source": [
    "best_neurons_number_model = grid_result_neurons_number.best_estimator_"
   ]
  },
  {
   "cell_type": "code",
   "execution_count": 68,
   "metadata": {},
   "outputs": [],
   "source": [
    "a_Y_hat = best_neurons_number_model.predict(X_test_std)"
   ]
  },
  {
   "cell_type": "code",
   "execution_count": 69,
   "metadata": {},
   "outputs": [
    {
     "data": {
      "text/plain": [
       "(200, 121)"
      ]
     },
     "execution_count": 69,
     "metadata": {},
     "output_type": "execute_result"
    }
   ],
   "source": [
    "X_test_std.shape"
   ]
  },
  {
   "cell_type": "code",
   "execution_count": 70,
   "metadata": {},
   "outputs": [
    {
     "name": "stdout",
     "output_type": "stream",
     "text": [
      "0.0018642072213500786\n"
     ]
    }
   ],
   "source": [
    "sum_g = 0\n",
    "for y,y_hat in zip(Y_test,a_Y_hat):\n",
    "    if y==y_hat:\n",
    "        sum_g+=1\n",
    "print(sum_g/20384)"
   ]
  }
 ],
 "metadata": {
  "kernelspec": {
   "display_name": "Python 3",
   "language": "python",
   "name": "python3"
  },
  "language_info": {
   "codemirror_mode": {
    "name": "ipython",
    "version": 3
   },
   "file_extension": ".py",
   "mimetype": "text/x-python",
   "name": "python",
   "nbconvert_exporter": "python",
   "pygments_lexer": "ipython3",
   "version": "3.6.6"
  }
 },
 "nbformat": 4,
 "nbformat_minor": 2
}
